{
 "cells": [
  {
   "cell_type": "code",
   "execution_count": 1,
   "id": "80e01555-3004-484a-a972-193d6978ab2b",
   "metadata": {},
   "outputs": [],
   "source": [
    "import pandas as pd\n",
    "import matplotlib.pyplot as plt"
   ]
  },
  {
   "cell_type": "code",
   "execution_count": 22,
   "id": "728d71a7-360a-4ba7-882c-ff4c7b4adfa6",
   "metadata": {},
   "outputs": [],
   "source": [
    "data=pd.read_excel('data.xls')"
   ]
  },
  {
   "cell_type": "code",
   "execution_count": 6,
   "id": "9f4241ca-9091-4cc5-b427-9c9957c7687d",
   "metadata": {},
   "outputs": [
    {
     "data": {
      "text/html": [
       "<div>\n",
       "<style scoped>\n",
       "    .dataframe tbody tr th:only-of-type {\n",
       "        vertical-align: middle;\n",
       "    }\n",
       "\n",
       "    .dataframe tbody tr th {\n",
       "        vertical-align: top;\n",
       "    }\n",
       "\n",
       "    .dataframe thead th {\n",
       "        text-align: right;\n",
       "    }\n",
       "</style>\n",
       "<table border=\"1\" class=\"dataframe\">\n",
       "  <thead>\n",
       "    <tr style=\"text-align: right;\">\n",
       "      <th></th>\n",
       "      <th>ID</th>\n",
       "      <th>Name</th>\n",
       "      <th>Sex</th>\n",
       "      <th>Age</th>\n",
       "      <th>Height</th>\n",
       "      <th>Weight</th>\n",
       "      <th>Team</th>\n",
       "      <th>NOC</th>\n",
       "      <th>Games</th>\n",
       "      <th>Year</th>\n",
       "      <th>Season</th>\n",
       "      <th>City</th>\n",
       "      <th>Sport</th>\n",
       "      <th>Event</th>\n",
       "      <th>Medal</th>\n",
       "    </tr>\n",
       "  </thead>\n",
       "  <tbody>\n",
       "    <tr>\n",
       "      <th>0</th>\n",
       "      <td>1</td>\n",
       "      <td>A Dijiang</td>\n",
       "      <td>M</td>\n",
       "      <td>24.0</td>\n",
       "      <td>180.0</td>\n",
       "      <td>80.0</td>\n",
       "      <td>China</td>\n",
       "      <td>CHN</td>\n",
       "      <td>1992 Summer</td>\n",
       "      <td>1992</td>\n",
       "      <td>Summer</td>\n",
       "      <td>Barcelona</td>\n",
       "      <td>Basketball</td>\n",
       "      <td>Basketball Men's Basketball</td>\n",
       "      <td>NaN</td>\n",
       "    </tr>\n",
       "    <tr>\n",
       "      <th>1</th>\n",
       "      <td>2</td>\n",
       "      <td>A Lamusi</td>\n",
       "      <td>M</td>\n",
       "      <td>23.0</td>\n",
       "      <td>170.0</td>\n",
       "      <td>60.0</td>\n",
       "      <td>China</td>\n",
       "      <td>CHN</td>\n",
       "      <td>2012 Summer</td>\n",
       "      <td>2012</td>\n",
       "      <td>Summer</td>\n",
       "      <td>London</td>\n",
       "      <td>Judo</td>\n",
       "      <td>Judo Men's Extra-Lightweight</td>\n",
       "      <td>NaN</td>\n",
       "    </tr>\n",
       "    <tr>\n",
       "      <th>2</th>\n",
       "      <td>3</td>\n",
       "      <td>Gunnar Nielsen Aaby</td>\n",
       "      <td>M</td>\n",
       "      <td>24.0</td>\n",
       "      <td>NaN</td>\n",
       "      <td>NaN</td>\n",
       "      <td>Denmark</td>\n",
       "      <td>DEN</td>\n",
       "      <td>1920 Summer</td>\n",
       "      <td>1920</td>\n",
       "      <td>Summer</td>\n",
       "      <td>Antwerpen</td>\n",
       "      <td>Football</td>\n",
       "      <td>Football Men's Football</td>\n",
       "      <td>NaN</td>\n",
       "    </tr>\n",
       "    <tr>\n",
       "      <th>3</th>\n",
       "      <td>4</td>\n",
       "      <td>Edgar Lindenau Aabye</td>\n",
       "      <td>M</td>\n",
       "      <td>34.0</td>\n",
       "      <td>NaN</td>\n",
       "      <td>NaN</td>\n",
       "      <td>Denmark/Sweden</td>\n",
       "      <td>DEN</td>\n",
       "      <td>1900 Summer</td>\n",
       "      <td>1900</td>\n",
       "      <td>Summer</td>\n",
       "      <td>Paris</td>\n",
       "      <td>Tug-Of-War</td>\n",
       "      <td>Tug-Of-War Men's Tug-Of-War</td>\n",
       "      <td>Gold</td>\n",
       "    </tr>\n",
       "    <tr>\n",
       "      <th>4</th>\n",
       "      <td>5</td>\n",
       "      <td>Christine Jacoba Aaftink</td>\n",
       "      <td>F</td>\n",
       "      <td>21.0</td>\n",
       "      <td>185.0</td>\n",
       "      <td>82.0</td>\n",
       "      <td>Netherlands</td>\n",
       "      <td>NED</td>\n",
       "      <td>1988 Winter</td>\n",
       "      <td>1988</td>\n",
       "      <td>Winter</td>\n",
       "      <td>Calgary</td>\n",
       "      <td>Speed Skating</td>\n",
       "      <td>Speed Skating Women's 500 metres</td>\n",
       "      <td>NaN</td>\n",
       "    </tr>\n",
       "  </tbody>\n",
       "</table>\n",
       "</div>"
      ],
      "text/plain": [
       "   ID                      Name Sex   Age  Height  Weight            Team  \\\n",
       "0   1                 A Dijiang   M  24.0   180.0    80.0           China   \n",
       "1   2                  A Lamusi   M  23.0   170.0    60.0           China   \n",
       "2   3       Gunnar Nielsen Aaby   M  24.0     NaN     NaN         Denmark   \n",
       "3   4      Edgar Lindenau Aabye   M  34.0     NaN     NaN  Denmark/Sweden   \n",
       "4   5  Christine Jacoba Aaftink   F  21.0   185.0    82.0     Netherlands   \n",
       "\n",
       "   NOC        Games  Year  Season       City          Sport  \\\n",
       "0  CHN  1992 Summer  1992  Summer  Barcelona     Basketball   \n",
       "1  CHN  2012 Summer  2012  Summer     London           Judo   \n",
       "2  DEN  1920 Summer  1920  Summer  Antwerpen       Football   \n",
       "3  DEN  1900 Summer  1900  Summer      Paris     Tug-Of-War   \n",
       "4  NED  1988 Winter  1988  Winter    Calgary  Speed Skating   \n",
       "\n",
       "                              Event Medal  \n",
       "0       Basketball Men's Basketball   NaN  \n",
       "1      Judo Men's Extra-Lightweight   NaN  \n",
       "2           Football Men's Football   NaN  \n",
       "3       Tug-Of-War Men's Tug-Of-War  Gold  \n",
       "4  Speed Skating Women's 500 metres   NaN  "
      ]
     },
     "execution_count": 6,
     "metadata": {},
     "output_type": "execute_result"
    }
   ],
   "source": [
    "data.head()"
   ]
  },
  {
   "cell_type": "code",
   "execution_count": 7,
   "id": "bcf03c9f-4cd6-4e18-afe2-d20cbd37f461",
   "metadata": {},
   "outputs": [
    {
     "data": {
      "text/html": [
       "<div>\n",
       "<style scoped>\n",
       "    .dataframe tbody tr th:only-of-type {\n",
       "        vertical-align: middle;\n",
       "    }\n",
       "\n",
       "    .dataframe tbody tr th {\n",
       "        vertical-align: top;\n",
       "    }\n",
       "\n",
       "    .dataframe thead th {\n",
       "        text-align: right;\n",
       "    }\n",
       "</style>\n",
       "<table border=\"1\" class=\"dataframe\">\n",
       "  <thead>\n",
       "    <tr style=\"text-align: right;\">\n",
       "      <th></th>\n",
       "      <th>ID</th>\n",
       "      <th>Age</th>\n",
       "      <th>Height</th>\n",
       "      <th>Weight</th>\n",
       "      <th>Year</th>\n",
       "    </tr>\n",
       "  </thead>\n",
       "  <tbody>\n",
       "    <tr>\n",
       "      <th>count</th>\n",
       "      <td>65535.000000</td>\n",
       "      <td>62987.000000</td>\n",
       "      <td>50246.000000</td>\n",
       "      <td>49456.000000</td>\n",
       "      <td>65535.000000</td>\n",
       "    </tr>\n",
       "    <tr>\n",
       "      <th>mean</th>\n",
       "      <td>16955.424125</td>\n",
       "      <td>25.643863</td>\n",
       "      <td>175.511185</td>\n",
       "      <td>70.912640</td>\n",
       "      <td>1977.720027</td>\n",
       "    </tr>\n",
       "    <tr>\n",
       "      <th>std</th>\n",
       "      <td>9591.060292</td>\n",
       "      <td>6.488163</td>\n",
       "      <td>10.379998</td>\n",
       "      <td>14.232709</td>\n",
       "      <td>30.147663</td>\n",
       "    </tr>\n",
       "    <tr>\n",
       "      <th>min</th>\n",
       "      <td>1.000000</td>\n",
       "      <td>11.000000</td>\n",
       "      <td>127.000000</td>\n",
       "      <td>25.000000</td>\n",
       "      <td>1896.000000</td>\n",
       "    </tr>\n",
       "    <tr>\n",
       "      <th>25%</th>\n",
       "      <td>8797.500000</td>\n",
       "      <td>21.000000</td>\n",
       "      <td>168.000000</td>\n",
       "      <td>61.000000</td>\n",
       "      <td>1960.000000</td>\n",
       "    </tr>\n",
       "    <tr>\n",
       "      <th>50%</th>\n",
       "      <td>16846.000000</td>\n",
       "      <td>25.000000</td>\n",
       "      <td>175.000000</td>\n",
       "      <td>70.000000</td>\n",
       "      <td>1984.000000</td>\n",
       "    </tr>\n",
       "    <tr>\n",
       "      <th>75%</th>\n",
       "      <td>25312.000000</td>\n",
       "      <td>28.000000</td>\n",
       "      <td>183.000000</td>\n",
       "      <td>79.000000</td>\n",
       "      <td>2002.000000</td>\n",
       "    </tr>\n",
       "    <tr>\n",
       "      <th>max</th>\n",
       "      <td>33538.000000</td>\n",
       "      <td>88.000000</td>\n",
       "      <td>223.000000</td>\n",
       "      <td>214.000000</td>\n",
       "      <td>2016.000000</td>\n",
       "    </tr>\n",
       "  </tbody>\n",
       "</table>\n",
       "</div>"
      ],
      "text/plain": [
       "                 ID           Age        Height        Weight          Year\n",
       "count  65535.000000  62987.000000  50246.000000  49456.000000  65535.000000\n",
       "mean   16955.424125     25.643863    175.511185     70.912640   1977.720027\n",
       "std     9591.060292      6.488163     10.379998     14.232709     30.147663\n",
       "min        1.000000     11.000000    127.000000     25.000000   1896.000000\n",
       "25%     8797.500000     21.000000    168.000000     61.000000   1960.000000\n",
       "50%    16846.000000     25.000000    175.000000     70.000000   1984.000000\n",
       "75%    25312.000000     28.000000    183.000000     79.000000   2002.000000\n",
       "max    33538.000000     88.000000    223.000000    214.000000   2016.000000"
      ]
     },
     "execution_count": 7,
     "metadata": {},
     "output_type": "execute_result"
    }
   ],
   "source": [
    "data.describe()"
   ]
  },
  {
   "cell_type": "markdown",
   "id": "3209e626-367e-418f-abcb-9d33ecac5614",
   "metadata": {},
   "source": [
    "### Which of the existing columns contain NA values?"
   ]
  },
  {
   "cell_type": "code",
   "execution_count": 27,
   "id": "23630002-72ab-4530-9b41-8be7bf7cf726",
   "metadata": {},
   "outputs": [
    {
     "name": "stdout",
     "output_type": "stream",
     "text": [
      "Index(['Age', 'Height', 'Weight', 'Medal'], dtype='object')\n"
     ]
    }
   ],
   "source": [
    "na_cols=data.columns[data.isna().any()]\n",
    "print(na_cols)"
   ]
  },
  {
   "cell_type": "code",
   "execution_count": 28,
   "id": "f257d7af-654c-4791-8df5-6c2f1764f37b",
   "metadata": {},
   "outputs": [],
   "source": [
    "data_with_removed_na=data.dropna()"
   ]
  },
  {
   "cell_type": "code",
   "execution_count": 30,
   "id": "5dacbc03-45c2-4fce-841d-e1b7a03f2eb5",
   "metadata": {},
   "outputs": [],
   "source": [
    "data_with_filled_na=data.copy()\n",
    "data_with_filled_na[na_cols[:3]]=data_with_filled_na[na_cols[:3]].ffill()\n",
    "data_with_filled_na['Medal']=data_with_filled_na['Medal'].fillna('None')"
   ]
  },
  {
   "cell_type": "code",
   "execution_count": 32,
   "id": "502ff17f-82d9-42a8-8fe1-808799a59088",
   "metadata": {},
   "outputs": [
    {
     "data": {
      "text/html": [
       "<div>\n",
       "<style scoped>\n",
       "    .dataframe tbody tr th:only-of-type {\n",
       "        vertical-align: middle;\n",
       "    }\n",
       "\n",
       "    .dataframe tbody tr th {\n",
       "        vertical-align: top;\n",
       "    }\n",
       "\n",
       "    .dataframe thead th {\n",
       "        text-align: right;\n",
       "    }\n",
       "</style>\n",
       "<table border=\"1\" class=\"dataframe\">\n",
       "  <thead>\n",
       "    <tr style=\"text-align: right;\">\n",
       "      <th></th>\n",
       "      <th>ID</th>\n",
       "      <th>Age</th>\n",
       "      <th>Height</th>\n",
       "      <th>Weight</th>\n",
       "      <th>Year</th>\n",
       "    </tr>\n",
       "  </thead>\n",
       "  <tbody>\n",
       "    <tr>\n",
       "      <th>count</th>\n",
       "      <td>6635.000000</td>\n",
       "      <td>6635.000000</td>\n",
       "      <td>6635.000000</td>\n",
       "      <td>6635.000000</td>\n",
       "      <td>6635.000000</td>\n",
       "    </tr>\n",
       "    <tr>\n",
       "      <th>mean</th>\n",
       "      <td>17159.134439</td>\n",
       "      <td>25.399096</td>\n",
       "      <td>177.983120</td>\n",
       "      <td>73.962999</td>\n",
       "      <td>1988.116654</td>\n",
       "    </tr>\n",
       "    <tr>\n",
       "      <th>std</th>\n",
       "      <td>9601.184649</td>\n",
       "      <td>5.091493</td>\n",
       "      <td>10.782094</td>\n",
       "      <td>15.257804</td>\n",
       "      <td>22.928687</td>\n",
       "    </tr>\n",
       "    <tr>\n",
       "      <th>min</th>\n",
       "      <td>16.000000</td>\n",
       "      <td>13.000000</td>\n",
       "      <td>139.000000</td>\n",
       "      <td>32.000000</td>\n",
       "      <td>1896.000000</td>\n",
       "    </tr>\n",
       "    <tr>\n",
       "      <th>25%</th>\n",
       "      <td>9034.000000</td>\n",
       "      <td>22.000000</td>\n",
       "      <td>170.000000</td>\n",
       "      <td>63.000000</td>\n",
       "      <td>1976.000000</td>\n",
       "    </tr>\n",
       "    <tr>\n",
       "      <th>50%</th>\n",
       "      <td>16778.000000</td>\n",
       "      <td>25.000000</td>\n",
       "      <td>178.000000</td>\n",
       "      <td>73.000000</td>\n",
       "      <td>1992.000000</td>\n",
       "    </tr>\n",
       "    <tr>\n",
       "      <th>75%</th>\n",
       "      <td>25609.000000</td>\n",
       "      <td>28.000000</td>\n",
       "      <td>185.000000</td>\n",
       "      <td>83.000000</td>\n",
       "      <td>2006.000000</td>\n",
       "    </tr>\n",
       "    <tr>\n",
       "      <th>max</th>\n",
       "      <td>33537.000000</td>\n",
       "      <td>58.000000</td>\n",
       "      <td>223.000000</td>\n",
       "      <td>170.000000</td>\n",
       "      <td>2016.000000</td>\n",
       "    </tr>\n",
       "  </tbody>\n",
       "</table>\n",
       "</div>"
      ],
      "text/plain": [
       "                 ID          Age       Height       Weight         Year\n",
       "count   6635.000000  6635.000000  6635.000000  6635.000000  6635.000000\n",
       "mean   17159.134439    25.399096   177.983120    73.962999  1988.116654\n",
       "std     9601.184649     5.091493    10.782094    15.257804    22.928687\n",
       "min       16.000000    13.000000   139.000000    32.000000  1896.000000\n",
       "25%     9034.000000    22.000000   170.000000    63.000000  1976.000000\n",
       "50%    16778.000000    25.000000   178.000000    73.000000  1992.000000\n",
       "75%    25609.000000    28.000000   185.000000    83.000000  2006.000000\n",
       "max    33537.000000    58.000000   223.000000   170.000000  2016.000000"
      ]
     },
     "execution_count": 32,
     "metadata": {},
     "output_type": "execute_result"
    }
   ],
   "source": [
    "data_with_removed_na.describe()"
   ]
  },
  {
   "cell_type": "code",
   "execution_count": 33,
   "id": "08006eb4-44a3-4e67-b1cb-5df73ce8fb96",
   "metadata": {},
   "outputs": [
    {
     "data": {
      "text/html": [
       "<div>\n",
       "<style scoped>\n",
       "    .dataframe tbody tr th:only-of-type {\n",
       "        vertical-align: middle;\n",
       "    }\n",
       "\n",
       "    .dataframe tbody tr th {\n",
       "        vertical-align: top;\n",
       "    }\n",
       "\n",
       "    .dataframe thead th {\n",
       "        text-align: right;\n",
       "    }\n",
       "</style>\n",
       "<table border=\"1\" class=\"dataframe\">\n",
       "  <thead>\n",
       "    <tr style=\"text-align: right;\">\n",
       "      <th></th>\n",
       "      <th>ID</th>\n",
       "      <th>Age</th>\n",
       "      <th>Height</th>\n",
       "      <th>Weight</th>\n",
       "      <th>Year</th>\n",
       "    </tr>\n",
       "  </thead>\n",
       "  <tbody>\n",
       "    <tr>\n",
       "      <th>count</th>\n",
       "      <td>65535.000000</td>\n",
       "      <td>65535.000000</td>\n",
       "      <td>65535.000000</td>\n",
       "      <td>65535.000000</td>\n",
       "      <td>65535.000000</td>\n",
       "    </tr>\n",
       "    <tr>\n",
       "      <th>mean</th>\n",
       "      <td>16955.424125</td>\n",
       "      <td>25.675074</td>\n",
       "      <td>175.802777</td>\n",
       "      <td>71.278927</td>\n",
       "      <td>1977.720027</td>\n",
       "    </tr>\n",
       "    <tr>\n",
       "      <th>std</th>\n",
       "      <td>9591.060292</td>\n",
       "      <td>6.490019</td>\n",
       "      <td>10.368467</td>\n",
       "      <td>14.215636</td>\n",
       "      <td>30.147663</td>\n",
       "    </tr>\n",
       "    <tr>\n",
       "      <th>min</th>\n",
       "      <td>1.000000</td>\n",
       "      <td>11.000000</td>\n",
       "      <td>127.000000</td>\n",
       "      <td>25.000000</td>\n",
       "      <td>1896.000000</td>\n",
       "    </tr>\n",
       "    <tr>\n",
       "      <th>25%</th>\n",
       "      <td>8797.500000</td>\n",
       "      <td>21.000000</td>\n",
       "      <td>169.000000</td>\n",
       "      <td>61.000000</td>\n",
       "      <td>1960.000000</td>\n",
       "    </tr>\n",
       "    <tr>\n",
       "      <th>50%</th>\n",
       "      <td>16846.000000</td>\n",
       "      <td>25.000000</td>\n",
       "      <td>175.000000</td>\n",
       "      <td>70.000000</td>\n",
       "      <td>1984.000000</td>\n",
       "    </tr>\n",
       "    <tr>\n",
       "      <th>75%</th>\n",
       "      <td>25312.000000</td>\n",
       "      <td>28.000000</td>\n",
       "      <td>183.000000</td>\n",
       "      <td>80.000000</td>\n",
       "      <td>2002.000000</td>\n",
       "    </tr>\n",
       "    <tr>\n",
       "      <th>max</th>\n",
       "      <td>33538.000000</td>\n",
       "      <td>88.000000</td>\n",
       "      <td>223.000000</td>\n",
       "      <td>214.000000</td>\n",
       "      <td>2016.000000</td>\n",
       "    </tr>\n",
       "  </tbody>\n",
       "</table>\n",
       "</div>"
      ],
      "text/plain": [
       "                 ID           Age        Height        Weight          Year\n",
       "count  65535.000000  65535.000000  65535.000000  65535.000000  65535.000000\n",
       "mean   16955.424125     25.675074    175.802777     71.278927   1977.720027\n",
       "std     9591.060292      6.490019     10.368467     14.215636     30.147663\n",
       "min        1.000000     11.000000    127.000000     25.000000   1896.000000\n",
       "25%     8797.500000     21.000000    169.000000     61.000000   1960.000000\n",
       "50%    16846.000000     25.000000    175.000000     70.000000   1984.000000\n",
       "75%    25312.000000     28.000000    183.000000     80.000000   2002.000000\n",
       "max    33538.000000     88.000000    223.000000    214.000000   2016.000000"
      ]
     },
     "execution_count": 33,
     "metadata": {},
     "output_type": "execute_result"
    }
   ],
   "source": [
    "data_with_filled_na.describe()"
   ]
  },
  {
   "cell_type": "markdown",
   "id": "10db4947-182b-43ed-83e5-3403e44e7cb8",
   "metadata": {},
   "source": [
    "### in 2nd dataset we have significantly more data!"
   ]
  },
  {
   "cell_type": "markdown",
   "id": "62b45404-c024-4c41-bfcc-5def828976ce",
   "metadata": {},
   "source": [
    "### What is the dtype for each column variable? Change the dtype of age to int!"
   ]
  },
  {
   "cell_type": "code",
   "execution_count": 36,
   "id": "9029367c-1a9c-4e4b-a774-fb190937ff10",
   "metadata": {},
   "outputs": [
    {
     "name": "stdout",
     "output_type": "stream",
     "text": [
      "ID          int64\n",
      "Name       object\n",
      "Sex        object\n",
      "Age       float64\n",
      "Height    float64\n",
      "Weight    float64\n",
      "Team       object\n",
      "NOC        object\n",
      "Games      object\n",
      "Year        int64\n",
      "Season     object\n",
      "City       object\n",
      "Sport      object\n",
      "Event      object\n",
      "Medal      object\n",
      "dtype: object\n"
     ]
    }
   ],
   "source": [
    "print(data_with_filled_na.dtypes)"
   ]
  },
  {
   "cell_type": "code",
   "execution_count": 37,
   "id": "56157af0-9dfc-4cfa-8e28-4b8db7d294c2",
   "metadata": {},
   "outputs": [],
   "source": [
    "data_with_filled_na['Age']=data_with_filled_na['Age'].astype(int)"
   ]
  },
  {
   "cell_type": "markdown",
   "id": "13605888-4614-4021-8a7a-058e19ca440a",
   "metadata": {},
   "source": [
    "### What is the median age of the participants?"
   ]
  },
  {
   "cell_type": "code",
   "execution_count": 38,
   "id": "0fee45e1-c546-490a-8d5e-9bd199c753ea",
   "metadata": {},
   "outputs": [
    {
     "data": {
      "text/plain": [
       "25.0"
      ]
     },
     "execution_count": 38,
     "metadata": {},
     "output_type": "execute_result"
    }
   ],
   "source": [
    "data_with_filled_na['Age'].median()"
   ]
  },
  {
   "cell_type": "markdown",
   "id": "5f42db4d-d498-4a38-a817-b7f98138fa42",
   "metadata": {},
   "source": [
    "### Do more participants participate in winter than in summer?"
   ]
  },
  {
   "cell_type": "code",
   "execution_count": 39,
   "id": "0f6c1e23-762a-43f7-b9bc-959bbb97499c",
   "metadata": {},
   "outputs": [],
   "source": [
    "total_summer=len(list(i for i in data_with_filled_na['Season'] if i=='Summer'))"
   ]
  },
  {
   "cell_type": "code",
   "execution_count": 40,
   "id": "2c938ff7-1c9c-4754-ba92-5d46553070c6",
   "metadata": {},
   "outputs": [],
   "source": [
    "total_winter=len(list(i for i in data_with_filled_na['Season'] if i=='Winter'))"
   ]
  },
  {
   "cell_type": "code",
   "execution_count": 41,
   "id": "b1eb2740-eb2e-4adc-b285-042b9f0ec45b",
   "metadata": {},
   "outputs": [
    {
     "name": "stdout",
     "output_type": "stream",
     "text": [
      "total participation in summer: 54872\n",
      "total participation in winter: 10663\n"
     ]
    }
   ],
   "source": [
    "print(f'total participation in summer: {total_summer}\\ntotal participation in winter: {total_winter}')"
   ]
  },
  {
   "cell_type": "markdown",
   "id": "ece63e13-8846-4474-9cb5-e5da99d765f6",
   "metadata": {},
   "source": [
    "### Give as output the number of sports and events held in each season."
   ]
  },
  {
   "cell_type": "code",
   "execution_count": 46,
   "id": "7b6835b9-895b-46ab-9225-427c593e7b1e",
   "metadata": {},
   "outputs": [],
   "source": [
    "summer_games=pd.Series(data_with_filled_na['Games'].iloc[i] for i in range (len(df)) if df['Season'].iloc[i]=='Summer').unique()\n",
    "winter_games=pd.Series(data_with_filled_na['Games'].iloc[i] for i in range (len(df)) if df['Season'].iloc[i]=='Winter').unique()"
   ]
  },
  {
   "cell_type": "code",
   "execution_count": 47,
   "id": "ec75201e-2485-468c-a266-575111e3bf8d",
   "metadata": {},
   "outputs": [
    {
     "data": {
      "text/plain": [
       "array(['1992 Summer', '2012 Summer', '1920 Summer', '1900 Summer',\n",
       "       '1932 Summer', '1952 Summer', '2000 Summer', '1996 Summer',\n",
       "       '1912 Summer', '1924 Summer', '1948 Summer', '2008 Summer',\n",
       "       '2016 Summer', '2004 Summer', '1984 Summer', '1968 Summer',\n",
       "       '1972 Summer', '1988 Summer', '1936 Summer', '1956 Summer',\n",
       "       '1960 Summer', '1928 Summer', '1976 Summer', '1980 Summer',\n",
       "       '1964 Summer', '1906 Summer', '1904 Summer', '1908 Summer',\n",
       "       '1896 Summer'], dtype=object)"
      ]
     },
     "execution_count": 47,
     "metadata": {},
     "output_type": "execute_result"
    }
   ],
   "source": [
    "summer_games"
   ]
  },
  {
   "cell_type": "code",
   "execution_count": 48,
   "id": "970b1f01-0da5-458b-8e2d-c580fb9ee1b9",
   "metadata": {},
   "outputs": [
    {
     "data": {
      "text/plain": [
       "array(['1988 Winter', '1992 Winter', '1994 Winter', '2002 Winter',\n",
       "       '1980 Winter', '2014 Winter', '1998 Winter', '2006 Winter',\n",
       "       '1960 Winter', '1964 Winter', '1984 Winter', '1952 Winter',\n",
       "       '1956 Winter', '2010 Winter', '1968 Winter', '1972 Winter',\n",
       "       '1976 Winter', '1924 Winter', '1928 Winter', '1948 Winter',\n",
       "       '1932 Winter', '1936 Winter'], dtype=object)"
      ]
     },
     "execution_count": 48,
     "metadata": {},
     "output_type": "execute_result"
    }
   ],
   "source": [
    "winter_games"
   ]
  },
  {
   "cell_type": "code",
   "execution_count": 49,
   "id": "464af1dc-c7e1-4287-81dc-06adadb0bc5f",
   "metadata": {},
   "outputs": [
    {
     "name": "stdout",
     "output_type": "stream",
     "text": [
      "total games in summer: 29\n",
      "total games in summer: 22\n"
     ]
    }
   ],
   "source": [
    "print(f'total games in summer: {len(summer_games)}\\ntotal games in summer: {len(winter_games)}')"
   ]
  },
  {
   "cell_type": "markdown",
   "id": "c9faacd0-192f-40f9-958a-e37eccc747e8",
   "metadata": {},
   "source": [
    "###  Identify the most poor performing country with respect to medals!"
   ]
  },
  {
   "cell_type": "code",
   "execution_count": 50,
   "id": "f9807b0b-5581-4566-badf-60d1bb188f08",
   "metadata": {},
   "outputs": [],
   "source": [
    "team_with_no_medal=pd.Series(data_with_filled_na['Team'].iloc[i] for i in range(len(data_with_filled_na)) if data_with_filled_na['Medal'].iloc[i]=='None')\n",
    "\n",
    "team_lose_record={}\n",
    "\n",
    "for i in team_with_no_medal.unique():\n",
    "\n",
    "    team_lose_record[i]=(team_with_no_medal==i).sum()\n",
    "\n",
    "max_lost=max(list(team_lose_record.values()))\n",
    "country_with_most_lost=list(k for k,v in team_lose_record.items() if v==max_lost)\n"
   ]
  },
  {
   "cell_type": "code",
   "execution_count": 53,
   "id": "bf7bfb55-ad4f-4253-8215-a46162724c95",
   "metadata": {},
   "outputs": [
    {
     "name": "stdout",
     "output_type": "stream",
     "text": [
      "countries with most loses:  ['France']\n"
     ]
    }
   ],
   "source": [
    "print('countries with most loses: ',country_with_most_lost)"
   ]
  },
  {
   "cell_type": "code",
   "execution_count": null,
   "id": "2e495ad7-321e-43ee-98f9-121c2a8ec58e",
   "metadata": {},
   "outputs": [],
   "source": []
  },
  {
   "cell_type": "code",
   "execution_count": 106,
   "id": "310e4d11-e72b-4883-9e9e-4362f670e6cf",
   "metadata": {},
   "outputs": [
    {
     "ename": "TypeError",
     "evalue": "'method' object is not subscriptable",
     "output_type": "error",
     "traceback": [
      "\u001b[0;31m---------------------------------------------------------------------------\u001b[0m",
      "\u001b[0;31mTypeError\u001b[0m                                 Traceback (most recent call last)",
      "Cell \u001b[0;32mIn[106], line 4\u001b[0m\n\u001b[1;32m      1\u001b[0m players_with_total_medals\u001b[38;5;241m=\u001b[39m{}\n\u001b[1;32m      2\u001b[0m players_with_total_None\u001b[38;5;241m=\u001b[39m{}\n\u001b[0;32m----> 4\u001b[0m players\u001b[38;5;241m=\u001b[39m\u001b[43mdata_with_filled_na\u001b[49m\u001b[43m[\u001b[49m\u001b[43m[\u001b[49m\u001b[38;5;124;43m'\u001b[39;49m\u001b[38;5;124;43mName\u001b[39;49m\u001b[38;5;124;43m'\u001b[39;49m\u001b[43m,\u001b[49m\u001b[38;5;124;43m'\u001b[39;49m\u001b[38;5;124;43mTeam\u001b[39;49m\u001b[38;5;124;43m'\u001b[39;49m\u001b[43m]\u001b[49m\u001b[43m]\u001b[49m\u001b[38;5;241;43m.\u001b[39;49m\u001b[43mdrop_duplicates\u001b[49m\u001b[43m(\u001b[49m\u001b[43m)\u001b[49m\u001b[38;5;241;43m.\u001b[39;49m\u001b[43mset_index\u001b[49m\u001b[43m[\u001b[49m\u001b[38;5;28;43mrange\u001b[39;49m\u001b[43m(\u001b[49m\u001b[38;5;28;43mlen\u001b[39;49m\u001b[43m(\u001b[49m\u001b[43mplayers\u001b[49m\u001b[43m)\u001b[49m\u001b[43m)\u001b[49m\u001b[43m]\u001b[49m\n\u001b[1;32m      7\u001b[0m names_and_team_with_medals\u001b[38;5;241m=\u001b[39mpd\u001b[38;5;241m.\u001b[39mSeries(data_with_filled_na[\u001b[38;5;124m'\u001b[39m\u001b[38;5;124mName\u001b[39m\u001b[38;5;124m'\u001b[39m]\u001b[38;5;241m.\u001b[39miloc[i] \u001b[38;5;28;01mfor\u001b[39;00m i \u001b[38;5;129;01min\u001b[39;00m \u001b[38;5;28mrange\u001b[39m(\u001b[38;5;28mlen\u001b[39m(data_with_filled_na)) \u001b[38;5;28;01mif\u001b[39;00m data_with_filled_na[\u001b[38;5;124m'\u001b[39m\u001b[38;5;124mMedal\u001b[39m\u001b[38;5;124m'\u001b[39m]\u001b[38;5;241m.\u001b[39miloc[i] \u001b[38;5;129;01min\u001b[39;00m [\u001b[38;5;124m'\u001b[39m\u001b[38;5;124mGold\u001b[39m\u001b[38;5;124m'\u001b[39m,\u001b[38;5;124m'\u001b[39m\u001b[38;5;124mSilver\u001b[39m\u001b[38;5;124m'\u001b[39m,\u001b[38;5;124m'\u001b[39m\u001b[38;5;124mBronze\u001b[39m\u001b[38;5;124m'\u001b[39m])\n\u001b[1;32m      8\u001b[0m names_and_team_with_None\u001b[38;5;241m=\u001b[39mpd\u001b[38;5;241m.\u001b[39mSeries(data_with_filled_na[\u001b[38;5;124m'\u001b[39m\u001b[38;5;124mName\u001b[39m\u001b[38;5;124m'\u001b[39m]\u001b[38;5;241m.\u001b[39miloc[i] \u001b[38;5;28;01mfor\u001b[39;00m i \u001b[38;5;129;01min\u001b[39;00m \u001b[38;5;28mrange\u001b[39m(\u001b[38;5;28mlen\u001b[39m(df)) \u001b[38;5;28;01mif\u001b[39;00m data_with_filled_na[\u001b[38;5;124m'\u001b[39m\u001b[38;5;124mMedal\u001b[39m\u001b[38;5;124m'\u001b[39m]\u001b[38;5;241m.\u001b[39miloc[i] \u001b[38;5;241m==\u001b[39m\u001b[38;5;124m'\u001b[39m\u001b[38;5;124mNone\u001b[39m\u001b[38;5;124m'\u001b[39m)\n",
      "\u001b[0;31mTypeError\u001b[0m: 'method' object is not subscriptable"
     ]
    }
   ],
   "source": [
    "players_with_total_medals={}\n",
    "players_with_total_None={}\n",
    "\n",
    "players=data_with_filled_na[['Name','Team']].drop_duplicates().set_index[range(len(players))]\n",
    "\n",
    "\n",
    "names_and_team_with_medals=pd.Series(data_with_filled_na['Name'].iloc[i] for i in range(len(data_with_filled_na)) if data_with_filled_na['Medal'].iloc[i] in ['Gold','Silver','Bronze'])\n",
    "names_and_team_with_None=pd.Series(data_with_filled_na['Name'].iloc[i] for i in range(len(df)) if data_with_filled_na['Medal'].iloc[i] =='None')\n",
    "\n",
    "for i in players['Name']:\n",
    "    players_with_total_medals[i]=[players[players['Name']==i]['Team'][0],(names_and_team_with_medals==i).sum()]\n",
    "    \n",
    "    # players_with_total_None[i]=[players[players['Name']==i]['Team'],(names_and_team_with_None==i).sum()]\n",
    "    \n",
    "max_medals=max(list(players_with_total_medals.values()))\n",
    "max_nan=max(list(players_with_total_None.values()))"
   ]
  },
  {
   "cell_type": "code",
   "execution_count": 120,
   "id": "4af0dfad-bc22-40b9-8d98-df5a5e618c8b",
   "metadata": {},
   "outputs": [],
   "source": [
    "players=data_with_filled_na[['Name','Team']].drop_duplicates()"
   ]
  },
  {
   "cell_type": "code",
   "execution_count": 125,
   "id": "55dc3573-79bc-4da6-90c2-8126ff19a301",
   "metadata": {},
   "outputs": [],
   "source": [
    "test_data=data_with_filled_na"
   ]
  },
  {
   "cell_type": "code",
   "execution_count": 128,
   "id": "51dfd263-068e-4d29-83b6-e73ffac4f46b",
   "metadata": {},
   "outputs": [
    {
     "data": {
      "text/plain": [
       "ID                                  4\n",
       "Sex                                 M\n",
       "Age                                34\n",
       "Height                          170.0\n",
       "Weight                           60.0\n",
       "NOC                               DEN\n",
       "Games                     1900 Summer\n",
       "Year                             1900\n",
       "Season                         Summer\n",
       "City                            Paris\n",
       "Sport                      Tug-Of-War\n",
       "Event     Tug-Of-War Men's Tug-Of-War\n",
       "Medal                            Gold\n",
       "Name: (Edgar Lindenau Aabye, Denmark/Sweden), dtype: object"
      ]
     },
     "execution_count": 128,
     "metadata": {},
     "output_type": "execute_result"
    }
   ],
   "source": [
    "test_data.set_index(['Name','Team']).iloc[3]"
   ]
  },
  {
   "cell_type": "code",
   "execution_count": 123,
   "id": "af4e9477-ebf9-4c59-a451-92c6e5fc59dd",
   "metadata": {},
   "outputs": [
    {
     "data": {
      "text/html": [
       "<div>\n",
       "<style scoped>\n",
       "    .dataframe tbody tr th:only-of-type {\n",
       "        vertical-align: middle;\n",
       "    }\n",
       "\n",
       "    .dataframe tbody tr th {\n",
       "        vertical-align: top;\n",
       "    }\n",
       "\n",
       "    .dataframe thead th {\n",
       "        text-align: right;\n",
       "    }\n",
       "</style>\n",
       "<table border=\"1\" class=\"dataframe\">\n",
       "  <thead>\n",
       "    <tr style=\"text-align: right;\">\n",
       "      <th></th>\n",
       "      <th>ID</th>\n",
       "      <th>Name</th>\n",
       "      <th>Sex</th>\n",
       "      <th>Age</th>\n",
       "      <th>Height</th>\n",
       "      <th>Weight</th>\n",
       "      <th>Team</th>\n",
       "      <th>NOC</th>\n",
       "      <th>Games</th>\n",
       "      <th>Year</th>\n",
       "      <th>Season</th>\n",
       "      <th>City</th>\n",
       "      <th>Sport</th>\n",
       "      <th>Event</th>\n",
       "      <th>Medal</th>\n",
       "    </tr>\n",
       "  </thead>\n",
       "  <tbody>\n",
       "    <tr>\n",
       "      <th>0</th>\n",
       "      <td>1</td>\n",
       "      <td>A Dijiang</td>\n",
       "      <td>M</td>\n",
       "      <td>24</td>\n",
       "      <td>180.0</td>\n",
       "      <td>80.0</td>\n",
       "      <td>China</td>\n",
       "      <td>CHN</td>\n",
       "      <td>1992 Summer</td>\n",
       "      <td>1992</td>\n",
       "      <td>Summer</td>\n",
       "      <td>Barcelona</td>\n",
       "      <td>Basketball</td>\n",
       "      <td>Basketball Men's Basketball</td>\n",
       "      <td>None</td>\n",
       "    </tr>\n",
       "    <tr>\n",
       "      <th>1</th>\n",
       "      <td>2</td>\n",
       "      <td>A Lamusi</td>\n",
       "      <td>M</td>\n",
       "      <td>23</td>\n",
       "      <td>170.0</td>\n",
       "      <td>60.0</td>\n",
       "      <td>China</td>\n",
       "      <td>CHN</td>\n",
       "      <td>2012 Summer</td>\n",
       "      <td>2012</td>\n",
       "      <td>Summer</td>\n",
       "      <td>London</td>\n",
       "      <td>Judo</td>\n",
       "      <td>Judo Men's Extra-Lightweight</td>\n",
       "      <td>None</td>\n",
       "    </tr>\n",
       "    <tr>\n",
       "      <th>2</th>\n",
       "      <td>3</td>\n",
       "      <td>Gunnar Nielsen Aaby</td>\n",
       "      <td>M</td>\n",
       "      <td>24</td>\n",
       "      <td>170.0</td>\n",
       "      <td>60.0</td>\n",
       "      <td>Denmark</td>\n",
       "      <td>DEN</td>\n",
       "      <td>1920 Summer</td>\n",
       "      <td>1920</td>\n",
       "      <td>Summer</td>\n",
       "      <td>Antwerpen</td>\n",
       "      <td>Football</td>\n",
       "      <td>Football Men's Football</td>\n",
       "      <td>None</td>\n",
       "    </tr>\n",
       "    <tr>\n",
       "      <th>3</th>\n",
       "      <td>4</td>\n",
       "      <td>Edgar Lindenau Aabye</td>\n",
       "      <td>M</td>\n",
       "      <td>34</td>\n",
       "      <td>170.0</td>\n",
       "      <td>60.0</td>\n",
       "      <td>Denmark/Sweden</td>\n",
       "      <td>DEN</td>\n",
       "      <td>1900 Summer</td>\n",
       "      <td>1900</td>\n",
       "      <td>Summer</td>\n",
       "      <td>Paris</td>\n",
       "      <td>Tug-Of-War</td>\n",
       "      <td>Tug-Of-War Men's Tug-Of-War</td>\n",
       "      <td>Gold</td>\n",
       "    </tr>\n",
       "    <tr>\n",
       "      <th>4</th>\n",
       "      <td>5</td>\n",
       "      <td>Christine Jacoba Aaftink</td>\n",
       "      <td>F</td>\n",
       "      <td>21</td>\n",
       "      <td>185.0</td>\n",
       "      <td>82.0</td>\n",
       "      <td>Netherlands</td>\n",
       "      <td>NED</td>\n",
       "      <td>1988 Winter</td>\n",
       "      <td>1988</td>\n",
       "      <td>Winter</td>\n",
       "      <td>Calgary</td>\n",
       "      <td>Speed Skating</td>\n",
       "      <td>Speed Skating Women's 500 metres</td>\n",
       "      <td>None</td>\n",
       "    </tr>\n",
       "    <tr>\n",
       "      <th>...</th>\n",
       "      <td>...</td>\n",
       "      <td>...</td>\n",
       "      <td>...</td>\n",
       "      <td>...</td>\n",
       "      <td>...</td>\n",
       "      <td>...</td>\n",
       "      <td>...</td>\n",
       "      <td>...</td>\n",
       "      <td>...</td>\n",
       "      <td>...</td>\n",
       "      <td>...</td>\n",
       "      <td>...</td>\n",
       "      <td>...</td>\n",
       "      <td>...</td>\n",
       "      <td>...</td>\n",
       "    </tr>\n",
       "    <tr>\n",
       "      <th>65530</th>\n",
       "      <td>33537</td>\n",
       "      <td>Nelson vora</td>\n",
       "      <td>M</td>\n",
       "      <td>24</td>\n",
       "      <td>183.0</td>\n",
       "      <td>76.0</td>\n",
       "      <td>Portugal</td>\n",
       "      <td>POR</td>\n",
       "      <td>2008 Summer</td>\n",
       "      <td>2008</td>\n",
       "      <td>Summer</td>\n",
       "      <td>Beijing</td>\n",
       "      <td>Athletics</td>\n",
       "      <td>Athletics Men's Triple Jump</td>\n",
       "      <td>Gold</td>\n",
       "    </tr>\n",
       "    <tr>\n",
       "      <th>65531</th>\n",
       "      <td>33537</td>\n",
       "      <td>Nelson vora</td>\n",
       "      <td>M</td>\n",
       "      <td>32</td>\n",
       "      <td>183.0</td>\n",
       "      <td>76.0</td>\n",
       "      <td>Portugal</td>\n",
       "      <td>POR</td>\n",
       "      <td>2016 Summer</td>\n",
       "      <td>2016</td>\n",
       "      <td>Summer</td>\n",
       "      <td>Rio de Janeiro</td>\n",
       "      <td>Athletics</td>\n",
       "      <td>Athletics Men's Triple Jump</td>\n",
       "      <td>None</td>\n",
       "    </tr>\n",
       "    <tr>\n",
       "      <th>65532</th>\n",
       "      <td>33538</td>\n",
       "      <td>Joseph Evouna</td>\n",
       "      <td>M</td>\n",
       "      <td>19</td>\n",
       "      <td>172.0</td>\n",
       "      <td>69.0</td>\n",
       "      <td>Cameroon</td>\n",
       "      <td>CMR</td>\n",
       "      <td>1972 Summer</td>\n",
       "      <td>1972</td>\n",
       "      <td>Summer</td>\n",
       "      <td>Munich</td>\n",
       "      <td>Cycling</td>\n",
       "      <td>Cycling Men's Road Race, Individual</td>\n",
       "      <td>None</td>\n",
       "    </tr>\n",
       "    <tr>\n",
       "      <th>65533</th>\n",
       "      <td>33538</td>\n",
       "      <td>Joseph Evouna</td>\n",
       "      <td>M</td>\n",
       "      <td>19</td>\n",
       "      <td>172.0</td>\n",
       "      <td>69.0</td>\n",
       "      <td>Cameroon</td>\n",
       "      <td>CMR</td>\n",
       "      <td>1972 Summer</td>\n",
       "      <td>1972</td>\n",
       "      <td>Summer</td>\n",
       "      <td>Munich</td>\n",
       "      <td>Cycling</td>\n",
       "      <td>Cycling Men's 100 kilometres Team Time Trial</td>\n",
       "      <td>None</td>\n",
       "    </tr>\n",
       "    <tr>\n",
       "      <th>65534</th>\n",
       "      <td>33538</td>\n",
       "      <td>Joseph Evouna</td>\n",
       "      <td>M</td>\n",
       "      <td>27</td>\n",
       "      <td>172.0</td>\n",
       "      <td>69.0</td>\n",
       "      <td>Cameroon</td>\n",
       "      <td>CMR</td>\n",
       "      <td>1980 Summer</td>\n",
       "      <td>1980</td>\n",
       "      <td>Summer</td>\n",
       "      <td>Moskva</td>\n",
       "      <td>Cycling</td>\n",
       "      <td>Cycling Men's Road Race, Individual</td>\n",
       "      <td>None</td>\n",
       "    </tr>\n",
       "  </tbody>\n",
       "</table>\n",
       "<p>65535 rows × 15 columns</p>\n",
       "</div>"
      ],
      "text/plain": [
       "          ID                      Name Sex  Age  Height  Weight  \\\n",
       "0          1                 A Dijiang   M   24   180.0    80.0   \n",
       "1          2                  A Lamusi   M   23   170.0    60.0   \n",
       "2          3       Gunnar Nielsen Aaby   M   24   170.0    60.0   \n",
       "3          4      Edgar Lindenau Aabye   M   34   170.0    60.0   \n",
       "4          5  Christine Jacoba Aaftink   F   21   185.0    82.0   \n",
       "...      ...                       ...  ..  ...     ...     ...   \n",
       "65530  33537               Nelson vora   M   24   183.0    76.0   \n",
       "65531  33537               Nelson vora   M   32   183.0    76.0   \n",
       "65532  33538             Joseph Evouna   M   19   172.0    69.0   \n",
       "65533  33538             Joseph Evouna   M   19   172.0    69.0   \n",
       "65534  33538             Joseph Evouna   M   27   172.0    69.0   \n",
       "\n",
       "                 Team  NOC        Games  Year  Season            City  \\\n",
       "0               China  CHN  1992 Summer  1992  Summer       Barcelona   \n",
       "1               China  CHN  2012 Summer  2012  Summer          London   \n",
       "2             Denmark  DEN  1920 Summer  1920  Summer       Antwerpen   \n",
       "3      Denmark/Sweden  DEN  1900 Summer  1900  Summer           Paris   \n",
       "4         Netherlands  NED  1988 Winter  1988  Winter         Calgary   \n",
       "...               ...  ...          ...   ...     ...             ...   \n",
       "65530        Portugal  POR  2008 Summer  2008  Summer         Beijing   \n",
       "65531        Portugal  POR  2016 Summer  2016  Summer  Rio de Janeiro   \n",
       "65532        Cameroon  CMR  1972 Summer  1972  Summer          Munich   \n",
       "65533        Cameroon  CMR  1972 Summer  1972  Summer          Munich   \n",
       "65534        Cameroon  CMR  1980 Summer  1980  Summer          Moskva   \n",
       "\n",
       "               Sport                                         Event Medal  \n",
       "0         Basketball                   Basketball Men's Basketball  None  \n",
       "1               Judo                  Judo Men's Extra-Lightweight  None  \n",
       "2           Football                       Football Men's Football  None  \n",
       "3         Tug-Of-War                   Tug-Of-War Men's Tug-Of-War  Gold  \n",
       "4      Speed Skating              Speed Skating Women's 500 metres  None  \n",
       "...              ...                                           ...   ...  \n",
       "65530      Athletics                   Athletics Men's Triple Jump  Gold  \n",
       "65531      Athletics                   Athletics Men's Triple Jump  None  \n",
       "65532        Cycling           Cycling Men's Road Race, Individual  None  \n",
       "65533        Cycling  Cycling Men's 100 kilometres Team Time Trial  None  \n",
       "65534        Cycling           Cycling Men's Road Race, Individual  None  \n",
       "\n",
       "[65535 rows x 15 columns]"
      ]
     },
     "execution_count": 123,
     "metadata": {},
     "output_type": "execute_result"
    }
   ],
   "source": [
    "test_data"
   ]
  },
  {
   "cell_type": "code",
   "execution_count": 95,
   "id": "2cdebb39-f992-44af-b087-6be2eb06e006",
   "metadata": {},
   "outputs": [
    {
     "data": {
      "text/plain": [
       "(34411, 0)"
      ]
     },
     "execution_count": 95,
     "metadata": {},
     "output_type": "execute_result"
    }
   ],
   "source": []
  },
  {
   "cell_type": "code",
   "execution_count": null,
   "id": "6a5104df-bf0a-4999-90d3-b4a0dc85236c",
   "metadata": {},
   "outputs": [],
   "source": []
  }
 ],
 "metadata": {
  "kernelspec": {
   "display_name": "Python 3 (ipykernel)",
   "language": "python",
   "name": "python3"
  },
  "language_info": {
   "codemirror_mode": {
    "name": "ipython",
    "version": 3
   },
   "file_extension": ".py",
   "mimetype": "text/x-python",
   "name": "python",
   "nbconvert_exporter": "python",
   "pygments_lexer": "ipython3",
   "version": "3.10.8"
  }
 },
 "nbformat": 4,
 "nbformat_minor": 5
}
