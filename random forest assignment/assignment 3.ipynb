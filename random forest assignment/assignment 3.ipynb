{
 "cells": [
  {
   "cell_type": "markdown",
   "id": "ec88d53e-6604-442b-854e-c35fe97624a9",
   "metadata": {},
   "source": [
    "# Name: Sourabh Barala\n",
    "# Course: M.Sc. Data Science\n",
    "# Year: 1st\n",
    "# Reg. No.: 23MSD7044\n",
    "# Subject: Machine Learning and its Applications\n",
    "#\n",
    "#\n",
    "#\n",
    "#\n",
    "#\n",
    "#"
   ]
  },
  {
   "cell_type": "code",
   "execution_count": 1,
   "id": "23b48b5b-6bff-41ff-a5e2-078aa66ed7c6",
   "metadata": {},
   "outputs": [],
   "source": [
    "import pandas as pd\n",
    "import numpy as np\n",
    "import matplotlib.pyplot as plt\n",
    "from sklearn.model_selection import train_test_split\n",
    "from sklearn.impute import SimpleImputer\n",
    "from sklearn.preprocessing import OneHotEncoder\n",
    "from sklearn.pipeline import Pipeline\n",
    "from sklearn.preprocessing import StandardScaler\n",
    "from sklearn.compose import ColumnTransformer\n",
    "from sklearn.ensemble import RandomForestClassifier, BaggingClassifier, AdaBoostClassifier, GradientBoostingClassifier\n",
    "from sklearn.tree import DecisionTreeClassifier\n",
    "from sklearn.naive_bayes import GaussianNB\n",
    "from sklearn.neighbors import KNeighborsClassifier\n",
    "from sklearn.svm import SVC\n",
    "from sklearn.linear_model import LogisticRegression\n",
    "import xgboost as xgb\n",
    "from sklearn.model_selection import KFold, cross_val_score"
   ]
  },
  {
   "cell_type": "code",
   "execution_count": 2,
   "id": "6a7ccdde-5876-4045-baa6-ea56ed0858bc",
   "metadata": {},
   "outputs": [],
   "source": [
    "titanic=pd.read_csv('archive/tested.csv')"
   ]
  },
  {
   "cell_type": "code",
   "execution_count": 3,
   "id": "14a4a556-8f95-469e-9b82-b6a45402dbfc",
   "metadata": {},
   "outputs": [
    {
     "data": {
      "text/html": [
       "<div>\n",
       "<style scoped>\n",
       "    .dataframe tbody tr th:only-of-type {\n",
       "        vertical-align: middle;\n",
       "    }\n",
       "\n",
       "    .dataframe tbody tr th {\n",
       "        vertical-align: top;\n",
       "    }\n",
       "\n",
       "    .dataframe thead th {\n",
       "        text-align: right;\n",
       "    }\n",
       "</style>\n",
       "<table border=\"1\" class=\"dataframe\">\n",
       "  <thead>\n",
       "    <tr style=\"text-align: right;\">\n",
       "      <th></th>\n",
       "      <th>PassengerId</th>\n",
       "      <th>Survived</th>\n",
       "      <th>Pclass</th>\n",
       "      <th>Name</th>\n",
       "      <th>Sex</th>\n",
       "      <th>Age</th>\n",
       "      <th>SibSp</th>\n",
       "      <th>Parch</th>\n",
       "      <th>Ticket</th>\n",
       "      <th>Fare</th>\n",
       "      <th>Cabin</th>\n",
       "      <th>Embarked</th>\n",
       "    </tr>\n",
       "  </thead>\n",
       "  <tbody>\n",
       "    <tr>\n",
       "      <th>0</th>\n",
       "      <td>892</td>\n",
       "      <td>0</td>\n",
       "      <td>3</td>\n",
       "      <td>Kelly, Mr. James</td>\n",
       "      <td>male</td>\n",
       "      <td>34.5</td>\n",
       "      <td>0</td>\n",
       "      <td>0</td>\n",
       "      <td>330911</td>\n",
       "      <td>7.8292</td>\n",
       "      <td>NaN</td>\n",
       "      <td>Q</td>\n",
       "    </tr>\n",
       "    <tr>\n",
       "      <th>1</th>\n",
       "      <td>893</td>\n",
       "      <td>1</td>\n",
       "      <td>3</td>\n",
       "      <td>Wilkes, Mrs. James (Ellen Needs)</td>\n",
       "      <td>female</td>\n",
       "      <td>47.0</td>\n",
       "      <td>1</td>\n",
       "      <td>0</td>\n",
       "      <td>363272</td>\n",
       "      <td>7.0000</td>\n",
       "      <td>NaN</td>\n",
       "      <td>S</td>\n",
       "    </tr>\n",
       "    <tr>\n",
       "      <th>2</th>\n",
       "      <td>894</td>\n",
       "      <td>0</td>\n",
       "      <td>2</td>\n",
       "      <td>Myles, Mr. Thomas Francis</td>\n",
       "      <td>male</td>\n",
       "      <td>62.0</td>\n",
       "      <td>0</td>\n",
       "      <td>0</td>\n",
       "      <td>240276</td>\n",
       "      <td>9.6875</td>\n",
       "      <td>NaN</td>\n",
       "      <td>Q</td>\n",
       "    </tr>\n",
       "    <tr>\n",
       "      <th>3</th>\n",
       "      <td>895</td>\n",
       "      <td>0</td>\n",
       "      <td>3</td>\n",
       "      <td>Wirz, Mr. Albert</td>\n",
       "      <td>male</td>\n",
       "      <td>27.0</td>\n",
       "      <td>0</td>\n",
       "      <td>0</td>\n",
       "      <td>315154</td>\n",
       "      <td>8.6625</td>\n",
       "      <td>NaN</td>\n",
       "      <td>S</td>\n",
       "    </tr>\n",
       "    <tr>\n",
       "      <th>4</th>\n",
       "      <td>896</td>\n",
       "      <td>1</td>\n",
       "      <td>3</td>\n",
       "      <td>Hirvonen, Mrs. Alexander (Helga E Lindqvist)</td>\n",
       "      <td>female</td>\n",
       "      <td>22.0</td>\n",
       "      <td>1</td>\n",
       "      <td>1</td>\n",
       "      <td>3101298</td>\n",
       "      <td>12.2875</td>\n",
       "      <td>NaN</td>\n",
       "      <td>S</td>\n",
       "    </tr>\n",
       "  </tbody>\n",
       "</table>\n",
       "</div>"
      ],
      "text/plain": [
       "   PassengerId  Survived  Pclass  \\\n",
       "0          892         0       3   \n",
       "1          893         1       3   \n",
       "2          894         0       2   \n",
       "3          895         0       3   \n",
       "4          896         1       3   \n",
       "\n",
       "                                           Name     Sex   Age  SibSp  Parch  \\\n",
       "0                              Kelly, Mr. James    male  34.5      0      0   \n",
       "1              Wilkes, Mrs. James (Ellen Needs)  female  47.0      1      0   \n",
       "2                     Myles, Mr. Thomas Francis    male  62.0      0      0   \n",
       "3                              Wirz, Mr. Albert    male  27.0      0      0   \n",
       "4  Hirvonen, Mrs. Alexander (Helga E Lindqvist)  female  22.0      1      1   \n",
       "\n",
       "    Ticket     Fare Cabin Embarked  \n",
       "0   330911   7.8292   NaN        Q  \n",
       "1   363272   7.0000   NaN        S  \n",
       "2   240276   9.6875   NaN        Q  \n",
       "3   315154   8.6625   NaN        S  \n",
       "4  3101298  12.2875   NaN        S  "
      ]
     },
     "execution_count": 3,
     "metadata": {},
     "output_type": "execute_result"
    }
   ],
   "source": [
    "titanic.head(5)"
   ]
  },
  {
   "cell_type": "code",
   "execution_count": 4,
   "id": "31fbf377-510a-466e-8ca9-d527dc090d89",
   "metadata": {},
   "outputs": [
    {
     "name": "stdout",
     "output_type": "stream",
     "text": [
      "<class 'pandas.core.frame.DataFrame'>\n",
      "RangeIndex: 418 entries, 0 to 417\n",
      "Data columns (total 12 columns):\n",
      " #   Column       Non-Null Count  Dtype  \n",
      "---  ------       --------------  -----  \n",
      " 0   PassengerId  418 non-null    int64  \n",
      " 1   Survived     418 non-null    int64  \n",
      " 2   Pclass       418 non-null    int64  \n",
      " 3   Name         418 non-null    object \n",
      " 4   Sex          418 non-null    object \n",
      " 5   Age          332 non-null    float64\n",
      " 6   SibSp        418 non-null    int64  \n",
      " 7   Parch        418 non-null    int64  \n",
      " 8   Ticket       418 non-null    object \n",
      " 9   Fare         417 non-null    float64\n",
      " 10  Cabin        91 non-null     object \n",
      " 11  Embarked     418 non-null    object \n",
      "dtypes: float64(2), int64(5), object(5)\n",
      "memory usage: 39.3+ KB\n"
     ]
    }
   ],
   "source": [
    "titanic.info()"
   ]
  },
  {
   "cell_type": "code",
   "execution_count": 5,
   "id": "08583069-d82a-43db-b94c-68c662b4e598",
   "metadata": {},
   "outputs": [
    {
     "data": {
      "text/html": [
       "<div>\n",
       "<style scoped>\n",
       "    .dataframe tbody tr th:only-of-type {\n",
       "        vertical-align: middle;\n",
       "    }\n",
       "\n",
       "    .dataframe tbody tr th {\n",
       "        vertical-align: top;\n",
       "    }\n",
       "\n",
       "    .dataframe thead th {\n",
       "        text-align: right;\n",
       "    }\n",
       "</style>\n",
       "<table border=\"1\" class=\"dataframe\">\n",
       "  <thead>\n",
       "    <tr style=\"text-align: right;\">\n",
       "      <th></th>\n",
       "      <th>PassengerId</th>\n",
       "      <th>Survived</th>\n",
       "      <th>Pclass</th>\n",
       "      <th>Age</th>\n",
       "      <th>SibSp</th>\n",
       "      <th>Parch</th>\n",
       "      <th>Fare</th>\n",
       "    </tr>\n",
       "  </thead>\n",
       "  <tbody>\n",
       "    <tr>\n",
       "      <th>count</th>\n",
       "      <td>418.000000</td>\n",
       "      <td>418.000000</td>\n",
       "      <td>418.000000</td>\n",
       "      <td>332.000000</td>\n",
       "      <td>418.000000</td>\n",
       "      <td>418.000000</td>\n",
       "      <td>417.000000</td>\n",
       "    </tr>\n",
       "    <tr>\n",
       "      <th>mean</th>\n",
       "      <td>1100.500000</td>\n",
       "      <td>0.363636</td>\n",
       "      <td>2.265550</td>\n",
       "      <td>30.272590</td>\n",
       "      <td>0.447368</td>\n",
       "      <td>0.392344</td>\n",
       "      <td>35.627188</td>\n",
       "    </tr>\n",
       "    <tr>\n",
       "      <th>std</th>\n",
       "      <td>120.810458</td>\n",
       "      <td>0.481622</td>\n",
       "      <td>0.841838</td>\n",
       "      <td>14.181209</td>\n",
       "      <td>0.896760</td>\n",
       "      <td>0.981429</td>\n",
       "      <td>55.907576</td>\n",
       "    </tr>\n",
       "    <tr>\n",
       "      <th>min</th>\n",
       "      <td>892.000000</td>\n",
       "      <td>0.000000</td>\n",
       "      <td>1.000000</td>\n",
       "      <td>0.170000</td>\n",
       "      <td>0.000000</td>\n",
       "      <td>0.000000</td>\n",
       "      <td>0.000000</td>\n",
       "    </tr>\n",
       "    <tr>\n",
       "      <th>25%</th>\n",
       "      <td>996.250000</td>\n",
       "      <td>0.000000</td>\n",
       "      <td>1.000000</td>\n",
       "      <td>21.000000</td>\n",
       "      <td>0.000000</td>\n",
       "      <td>0.000000</td>\n",
       "      <td>7.895800</td>\n",
       "    </tr>\n",
       "    <tr>\n",
       "      <th>50%</th>\n",
       "      <td>1100.500000</td>\n",
       "      <td>0.000000</td>\n",
       "      <td>3.000000</td>\n",
       "      <td>27.000000</td>\n",
       "      <td>0.000000</td>\n",
       "      <td>0.000000</td>\n",
       "      <td>14.454200</td>\n",
       "    </tr>\n",
       "    <tr>\n",
       "      <th>75%</th>\n",
       "      <td>1204.750000</td>\n",
       "      <td>1.000000</td>\n",
       "      <td>3.000000</td>\n",
       "      <td>39.000000</td>\n",
       "      <td>1.000000</td>\n",
       "      <td>0.000000</td>\n",
       "      <td>31.500000</td>\n",
       "    </tr>\n",
       "    <tr>\n",
       "      <th>max</th>\n",
       "      <td>1309.000000</td>\n",
       "      <td>1.000000</td>\n",
       "      <td>3.000000</td>\n",
       "      <td>76.000000</td>\n",
       "      <td>8.000000</td>\n",
       "      <td>9.000000</td>\n",
       "      <td>512.329200</td>\n",
       "    </tr>\n",
       "  </tbody>\n",
       "</table>\n",
       "</div>"
      ],
      "text/plain": [
       "       PassengerId    Survived      Pclass         Age       SibSp  \\\n",
       "count   418.000000  418.000000  418.000000  332.000000  418.000000   \n",
       "mean   1100.500000    0.363636    2.265550   30.272590    0.447368   \n",
       "std     120.810458    0.481622    0.841838   14.181209    0.896760   \n",
       "min     892.000000    0.000000    1.000000    0.170000    0.000000   \n",
       "25%     996.250000    0.000000    1.000000   21.000000    0.000000   \n",
       "50%    1100.500000    0.000000    3.000000   27.000000    0.000000   \n",
       "75%    1204.750000    1.000000    3.000000   39.000000    1.000000   \n",
       "max    1309.000000    1.000000    3.000000   76.000000    8.000000   \n",
       "\n",
       "            Parch        Fare  \n",
       "count  418.000000  417.000000  \n",
       "mean     0.392344   35.627188  \n",
       "std      0.981429   55.907576  \n",
       "min      0.000000    0.000000  \n",
       "25%      0.000000    7.895800  \n",
       "50%      0.000000   14.454200  \n",
       "75%      0.000000   31.500000  \n",
       "max      9.000000  512.329200  "
      ]
     },
     "execution_count": 5,
     "metadata": {},
     "output_type": "execute_result"
    }
   ],
   "source": [
    "titanic.describe()"
   ]
  },
  {
   "cell_type": "code",
   "execution_count": 6,
   "id": "9fe0d6ff-b006-4bad-8f5d-0fbeeaa93ded",
   "metadata": {},
   "outputs": [
    {
     "data": {
      "image/png": "[encoded data removed]",
      "text/plain": [
       "<Figure size 2000x1500 with 9 Axes>"
      ]
     },
     "metadata": {},
     "output_type": "display_data"
    }
   ],
   "source": [
    "titanic.hist(bins=50,figsize=(20,15))\n",
    "plt.show()"
   ]
  },
  {
   "cell_type": "code",
   "execution_count": 7,
   "id": "770dc584-eb0b-4c7f-990f-7e13c44a3681",
   "metadata": {},
   "outputs": [],
   "source": [
    "train_set,test_set=train_test_split(titanic,random_state=100,test_size=0.3,stratify=titanic['Survived'])\n",
    "\n",
    "titanic=train_set.copy()"
   ]
  },
  {
   "cell_type": "code",
   "execution_count": 8,
   "id": "f75dd6b3-f80c-440e-b670-76faa52036e8",
   "metadata": {},
   "outputs": [],
   "source": [
    "numeric_cols=['Survived','Pclass','Age','SibSp','Parch','Fare']"
   ]
  },
  {
   "cell_type": "code",
   "execution_count": 9,
   "id": "ca247b81-75ce-480a-a91a-5c8312c9bfbe",
   "metadata": {},
   "outputs": [
    {
     "data": {
      "text/plain": [
       "Survived    1.000000\n",
       "Pclass     -0.108371\n",
       "Age         0.054808\n",
       "SibSp       0.052525\n",
       "Parch       0.213548\n",
       "Fare        0.204776\n",
       "Name: Survived, dtype: float64"
      ]
     },
     "execution_count": 9,
     "metadata": {},
     "output_type": "execute_result"
    }
   ],
   "source": [
    "titanic[numeric_cols].corr()['Survived']"
   ]
  },
  {
   "cell_type": "code",
   "execution_count": 10,
   "id": "409b8615-9ce3-4f45-9e36-c8723becfd56",
   "metadata": {},
   "outputs": [
    {
     "data": {
      "image/png": "[encoded data removed]",
      "text/plain": [
       "<Figure size 640x480 with 36 Axes>"
      ]
     },
     "metadata": {},
     "output_type": "display_data"
    }
   ],
   "source": [
    "pd.plotting.scatter_matrix(titanic[numeric_cols])\n",
    "plt.show()"
   ]
  },
  {
   "cell_type": "code",
   "execution_count": 11,
   "id": "b33aa558-c0d4-4792-a49d-5eb7a977b609",
   "metadata": {},
   "outputs": [],
   "source": [
    "labels,category=pd.factorize(titanic['Embarked'])\n",
    "labels2,category2=pd.factorize(titanic['Sex'])\n",
    "labels3,category3=pd.factorize(titanic['Cabin'])"
   ]
  },
  {
   "cell_type": "code",
   "execution_count": null,
   "id": "9e36ad6f-edcf-48d8-ad98-e239be4eb12d",
   "metadata": {},
   "outputs": [],
   "source": []
  },
  {
   "cell_type": "code",
   "execution_count": 12,
   "id": "0cd96e0c-bc96-4807-9a1d-6e2e5bd6f2d3",
   "metadata": {},
   "outputs": [],
   "source": [
    "titanic['embarked_num']=labels\n",
    "titanic['Sex_num']=labels2\n",
    "titanic['cabin_num']=labels3"
   ]
  },
  {
   "cell_type": "code",
   "execution_count": 13,
   "id": "862010f9-827d-4a21-af65-486cb37e014f",
   "metadata": {},
   "outputs": [],
   "source": [
    "numeric_cols.extend(['embarked_num','Sex_num','cabin_num'])\n"
   ]
  },
  {
   "cell_type": "code",
   "execution_count": 14,
   "id": "1b1b793e-d5af-4ebb-a420-6b407d31a427",
   "metadata": {},
   "outputs": [
    {
     "data": {
      "text/html": [
       "<div>\n",
       "<style scoped>\n",
       "    .dataframe tbody tr th:only-of-type {\n",
       "        vertical-align: middle;\n",
       "    }\n",
       "\n",
       "    .dataframe tbody tr th {\n",
       "        vertical-align: top;\n",
       "    }\n",
       "\n",
       "    .dataframe thead th {\n",
       "        text-align: right;\n",
       "    }\n",
       "</style>\n",
       "<table border=\"1\" class=\"dataframe\">\n",
       "  <thead>\n",
       "    <tr style=\"text-align: right;\">\n",
       "      <th></th>\n",
       "      <th>Survived</th>\n",
       "      <th>Pclass</th>\n",
       "      <th>Age</th>\n",
       "      <th>SibSp</th>\n",
       "      <th>Parch</th>\n",
       "      <th>Fare</th>\n",
       "      <th>embarked_num</th>\n",
       "      <th>Sex_num</th>\n",
       "      <th>cabin_num</th>\n",
       "    </tr>\n",
       "  </thead>\n",
       "  <tbody>\n",
       "    <tr>\n",
       "      <th>Survived</th>\n",
       "      <td>1.000000</td>\n",
       "      <td>-0.108371</td>\n",
       "      <td>0.054808</td>\n",
       "      <td>0.052525</td>\n",
       "      <td>0.213548</td>\n",
       "      <td>0.204776</td>\n",
       "      <td>0.139645</td>\n",
       "      <td>1.000000</td>\n",
       "      <td>0.137130</td>\n",
       "    </tr>\n",
       "    <tr>\n",
       "      <th>Pclass</th>\n",
       "      <td>-0.108371</td>\n",
       "      <td>1.000000</td>\n",
       "      <td>-0.545526</td>\n",
       "      <td>0.028740</td>\n",
       "      <td>0.037316</td>\n",
       "      <td>-0.569527</td>\n",
       "      <td>0.043861</td>\n",
       "      <td>-0.108371</td>\n",
       "      <td>-0.604828</td>\n",
       "    </tr>\n",
       "    <tr>\n",
       "      <th>Age</th>\n",
       "      <td>0.054808</td>\n",
       "      <td>-0.545526</td>\n",
       "      <td>1.000000</td>\n",
       "      <td>-0.133935</td>\n",
       "      <td>-0.167283</td>\n",
       "      <td>0.308094</td>\n",
       "      <td>0.131046</td>\n",
       "      <td>0.054808</td>\n",
       "      <td>0.390074</td>\n",
       "    </tr>\n",
       "    <tr>\n",
       "      <th>SibSp</th>\n",
       "      <td>0.052525</td>\n",
       "      <td>0.028740</td>\n",
       "      <td>-0.133935</td>\n",
       "      <td>1.000000</td>\n",
       "      <td>0.356761</td>\n",
       "      <td>0.140274</td>\n",
       "      <td>-0.106346</td>\n",
       "      <td>0.052525</td>\n",
       "      <td>0.059850</td>\n",
       "    </tr>\n",
       "    <tr>\n",
       "      <th>Parch</th>\n",
       "      <td>0.213548</td>\n",
       "      <td>0.037316</td>\n",
       "      <td>-0.167283</td>\n",
       "      <td>0.356761</td>\n",
       "      <td>1.000000</td>\n",
       "      <td>0.191723</td>\n",
       "      <td>-0.108267</td>\n",
       "      <td>0.213548</td>\n",
       "      <td>0.086654</td>\n",
       "    </tr>\n",
       "    <tr>\n",
       "      <th>Fare</th>\n",
       "      <td>0.204776</td>\n",
       "      <td>-0.569527</td>\n",
       "      <td>0.308094</td>\n",
       "      <td>0.140274</td>\n",
       "      <td>0.191723</td>\n",
       "      <td>1.000000</td>\n",
       "      <td>0.055062</td>\n",
       "      <td>0.204776</td>\n",
       "      <td>0.583569</td>\n",
       "    </tr>\n",
       "    <tr>\n",
       "      <th>embarked_num</th>\n",
       "      <td>0.139645</td>\n",
       "      <td>0.043861</td>\n",
       "      <td>0.131046</td>\n",
       "      <td>-0.106346</td>\n",
       "      <td>-0.108267</td>\n",
       "      <td>0.055062</td>\n",
       "      <td>1.000000</td>\n",
       "      <td>0.139645</td>\n",
       "      <td>0.027665</td>\n",
       "    </tr>\n",
       "    <tr>\n",
       "      <th>Sex_num</th>\n",
       "      <td>1.000000</td>\n",
       "      <td>-0.108371</td>\n",
       "      <td>0.054808</td>\n",
       "      <td>0.052525</td>\n",
       "      <td>0.213548</td>\n",
       "      <td>0.204776</td>\n",
       "      <td>0.139645</td>\n",
       "      <td>1.000000</td>\n",
       "      <td>0.137130</td>\n",
       "    </tr>\n",
       "    <tr>\n",
       "      <th>cabin_num</th>\n",
       "      <td>0.137130</td>\n",
       "      <td>-0.604828</td>\n",
       "      <td>0.390074</td>\n",
       "      <td>0.059850</td>\n",
       "      <td>0.086654</td>\n",
       "      <td>0.583569</td>\n",
       "      <td>0.027665</td>\n",
       "      <td>0.137130</td>\n",
       "      <td>1.000000</td>\n",
       "    </tr>\n",
       "  </tbody>\n",
       "</table>\n",
       "</div>"
      ],
      "text/plain": [
       "              Survived    Pclass       Age     SibSp     Parch      Fare  \\\n",
       "Survived      1.000000 -0.108371  0.054808  0.052525  0.213548  0.204776   \n",
       "Pclass       -0.108371  1.000000 -0.545526  0.028740  0.037316 -0.569527   \n",
       "Age           0.054808 -0.545526  1.000000 -0.133935 -0.167283  0.308094   \n",
       "SibSp         0.052525  0.028740 -0.133935  1.000000  0.356761  0.140274   \n",
       "Parch         0.213548  0.037316 -0.167283  0.356761  1.000000  0.191723   \n",
       "Fare          0.204776 -0.569527  0.308094  0.140274  0.191723  1.000000   \n",
       "embarked_num  0.139645  0.043861  0.131046 -0.106346 -0.108267  0.055062   \n",
       "Sex_num       1.000000 -0.108371  0.054808  0.052525  0.213548  0.204776   \n",
       "cabin_num     0.137130 -0.604828  0.390074  0.059850  0.086654  0.583569   \n",
       "\n",
       "              embarked_num   Sex_num  cabin_num  \n",
       "Survived          0.139645  1.000000   0.137130  \n",
       "Pclass            0.043861 -0.108371  -0.604828  \n",
       "Age               0.131046  0.054808   0.390074  \n",
       "SibSp            -0.106346  0.052525   0.059850  \n",
       "Parch            -0.108267  0.213548   0.086654  \n",
       "Fare              0.055062  0.204776   0.583569  \n",
       "embarked_num      1.000000  0.139645   0.027665  \n",
       "Sex_num           0.139645  1.000000   0.137130  \n",
       "cabin_num         0.027665  0.137130   1.000000  "
      ]
     },
     "execution_count": 14,
     "metadata": {},
     "output_type": "execute_result"
    }
   ],
   "source": [
    "titanic[numeric_cols].corr()"
   ]
  },
  {
   "cell_type": "code",
   "execution_count": 15,
   "id": "53a5c4d3-0aa6-46d5-ad88-e739019c7416",
   "metadata": {},
   "outputs": [
    {
     "data": {
      "image/png": "[encoded data removed]",
      "text/plain": [
       "<Figure size 640x480 with 4 Axes>"
      ]
     },
     "metadata": {},
     "output_type": "display_data"
    }
   ],
   "source": [
    "pd.plotting.scatter_matrix(titanic[['cabin_num','Survived']])\n",
    "plt.show()"
   ]
  },
  {
   "cell_type": "code",
   "execution_count": 16,
   "id": "bec87e5c-1099-43f9-b959-2d035719c8d5",
   "metadata": {},
   "outputs": [],
   "source": [
    "train_para=train_set.drop(['PassengerId','Name','Ticket','Survived','Cabin'],axis=1)  # parameters for training\n",
    "train_label=train_set['Survived']             # labels for training\n"
   ]
  },
  {
   "cell_type": "code",
   "execution_count": null,
   "id": "da0c2cfa-8b3f-41fa-b420-fca47d8cd005",
   "metadata": {},
   "outputs": [],
   "source": []
  },
  {
   "cell_type": "code",
   "execution_count": 17,
   "id": "7ed56f79-12fb-4c57-8c67-1f4561e4dca1",
   "metadata": {},
   "outputs": [
    {
     "data": {
      "text/plain": [
       "Pclass       0\n",
       "Sex          0\n",
       "Age         61\n",
       "SibSp        0\n",
       "Parch        0\n",
       "Fare         1\n",
       "Embarked     0\n",
       "dtype: int64"
      ]
     },
     "execution_count": 17,
     "metadata": {},
     "output_type": "execute_result"
    }
   ],
   "source": [
    "train_para.isnull().sum()"
   ]
  },
  {
   "cell_type": "code",
   "execution_count": 18,
   "id": "5f5fbc7b-7ea5-4125-9bb0-b85d9025e925",
   "metadata": {},
   "outputs": [
    {
     "name": "stdout",
     "output_type": "stream",
     "text": [
      "<class 'pandas.core.frame.DataFrame'>\n",
      "Int64Index: 292 entries, 192 to 315\n",
      "Data columns (total 7 columns):\n",
      " #   Column    Non-Null Count  Dtype  \n",
      "---  ------    --------------  -----  \n",
      " 0   Pclass    292 non-null    int64  \n",
      " 1   Sex       292 non-null    object \n",
      " 2   Age       231 non-null    float64\n",
      " 3   SibSp     292 non-null    int64  \n",
      " 4   Parch     292 non-null    int64  \n",
      " 5   Fare      291 non-null    float64\n",
      " 6   Embarked  292 non-null    object \n",
      "dtypes: float64(2), int64(3), object(2)\n",
      "memory usage: 18.2+ KB\n"
     ]
    }
   ],
   "source": [
    "train_para.info()"
   ]
  },
  {
   "cell_type": "code",
   "execution_count": 19,
   "id": "14c07264-0126-4838-a9f4-a3b3a8d69f56",
   "metadata": {},
   "outputs": [],
   "source": [
    "from sklearn.base import BaseEstimator, TransformerMixin\n",
    "class CleanNumericData(BaseEstimator, TransformerMixin):\n",
    "    def __init__(self,method='median',fill_value=0):\n",
    "        self.method=method\n",
    "        self.fill_value=fill_value\n",
    "        \n",
    "    def give_numeric_cols(self,data):\n",
    "        col_names=[data.columns[i] for i in range(len(data.dtypes)) if (data.dtypes[i]==int or data.dtypes[i]==float)]\n",
    "        return col_names\n",
    "    \n",
    "    def fit(self,data):\n",
    "        return self\n",
    "    \n",
    "    def transform(self,data):\n",
    "        imputer=SimpleImputer(strategy=self.method)\n",
    "        num_cols=self.give_numeric_cols(data)\n",
    "        X=imputer.fit_transform(data[num_cols])\n",
    "        X_df=pd.DataFrame(X,columns=num_cols,index=data.index)\n",
    "        return X_df\n",
    "    \n",
    "    \n",
    "def ApplyOneHotEncoding(data):\n",
    "    cato_cols=['Sex','Embarked']\n",
    "    cat_encoder=OneHotEncoder()\n",
    "    encoded=cat_encoder.fit_transform(data[cato_cols])\n",
    "    encoded_df=pd.DataFrame(encoded.toarray(),columns=['female','male','embarked_C','embarked_Q','embarked_S'],index=data.index)\n",
    "    encoded_df=encoded_df.drop('male',axis=1)\n",
    "    return encoded_df\n",
    "\n",
    "\n",
    "num_pipline = Pipeline([\n",
    "    ('cleaner',CleanNumericData()),\n",
    "    ('standard_scaler',StandardScaler())\n",
    "])\n",
    "\n",
    "full_pipeline=ColumnTransformer([\n",
    "    ('num',num_pipline,['Pclass','Age','SibSp','Parch','Fare']),\n",
    "    ('cat',OneHotEncoder(),['Sex','Embarked']),\n",
    "])"
   ]
  },
  {
   "cell_type": "code",
   "execution_count": 20,
   "id": "8869aa3b-b7c1-413a-b970-9bd68ac86c89",
   "metadata": {},
   "outputs": [],
   "source": [
    "temp=train_para.copy()"
   ]
  },
  {
   "cell_type": "code",
   "execution_count": 21,
   "id": "88430f7d-f5c0-428c-a5a6-7fee83355fff",
   "metadata": {},
   "outputs": [],
   "source": [
    "temp2=full_pipeline.fit_transform(temp)"
   ]
  },
  {
   "cell_type": "code",
   "execution_count": 22,
   "id": "4bb98e37-49f8-4e53-a687-a35bbcfed7eb",
   "metadata": {},
   "outputs": [],
   "source": [
    "transformed_train_para=pd.DataFrame(temp2,columns=['Pclass','Age', 'SibSp', 'Parch', 'Fare','Female','Male','Embarked_c','Embarked_S','Embarked_q'],index=temp.index)"
   ]
  },
  {
   "cell_type": "code",
   "execution_count": 23,
   "id": "6c98b0ac-1f7e-4126-91fe-f51228e311d1",
   "metadata": {},
   "outputs": [
    {
     "data": {
      "text/html": [
       "<div>\n",
       "<style scoped>\n",
       "    .dataframe tbody tr th:only-of-type {\n",
       "        vertical-align: middle;\n",
       "    }\n",
       "\n",
       "    .dataframe tbody tr th {\n",
       "        vertical-align: top;\n",
       "    }\n",
       "\n",
       "    .dataframe thead th {\n",
       "        text-align: right;\n",
       "    }\n",
       "</style>\n",
       "<table border=\"1\" class=\"dataframe\">\n",
       "  <thead>\n",
       "    <tr style=\"text-align: right;\">\n",
       "      <th></th>\n",
       "      <th>Pclass</th>\n",
       "      <th>Age</th>\n",
       "      <th>SibSp</th>\n",
       "      <th>Parch</th>\n",
       "      <th>Fare</th>\n",
       "      <th>Female</th>\n",
       "      <th>Male</th>\n",
       "      <th>Embarked_c</th>\n",
       "      <th>Embarked_S</th>\n",
       "      <th>Embarked_q</th>\n",
       "    </tr>\n",
       "  </thead>\n",
       "  <tbody>\n",
       "    <tr>\n",
       "      <th>192</th>\n",
       "      <td>0.890640</td>\n",
       "      <td>-1.444960</td>\n",
       "      <td>0.636853</td>\n",
       "      <td>0.748420</td>\n",
       "      <td>-0.384944</td>\n",
       "      <td>0.0</td>\n",
       "      <td>1.0</td>\n",
       "      <td>0.0</td>\n",
       "      <td>0.0</td>\n",
       "      <td>1.0</td>\n",
       "    </tr>\n",
       "    <tr>\n",
       "      <th>134</th>\n",
       "      <td>0.890640</td>\n",
       "      <td>1.023488</td>\n",
       "      <td>-0.476686</td>\n",
       "      <td>-0.426519</td>\n",
       "      <td>-0.494953</td>\n",
       "      <td>0.0</td>\n",
       "      <td>1.0</td>\n",
       "      <td>0.0</td>\n",
       "      <td>0.0</td>\n",
       "      <td>1.0</td>\n",
       "    </tr>\n",
       "    <tr>\n",
       "      <th>317</th>\n",
       "      <td>-0.275579</td>\n",
       "      <td>-0.857234</td>\n",
       "      <td>-0.476686</td>\n",
       "      <td>-0.426519</td>\n",
       "      <td>-0.451573</td>\n",
       "      <td>0.0</td>\n",
       "      <td>1.0</td>\n",
       "      <td>0.0</td>\n",
       "      <td>0.0</td>\n",
       "      <td>1.0</td>\n",
       "    </tr>\n",
       "    <tr>\n",
       "      <th>135</th>\n",
       "      <td>0.890640</td>\n",
       "      <td>-0.465417</td>\n",
       "      <td>-0.476686</td>\n",
       "      <td>-0.426519</td>\n",
       "      <td>-0.495646</td>\n",
       "      <td>0.0</td>\n",
       "      <td>1.0</td>\n",
       "      <td>0.0</td>\n",
       "      <td>0.0</td>\n",
       "      <td>1.0</td>\n",
       "    </tr>\n",
       "    <tr>\n",
       "      <th>72</th>\n",
       "      <td>0.890640</td>\n",
       "      <td>-0.073600</td>\n",
       "      <td>-0.476686</td>\n",
       "      <td>-0.426519</td>\n",
       "      <td>-0.494466</td>\n",
       "      <td>1.0</td>\n",
       "      <td>0.0</td>\n",
       "      <td>0.0</td>\n",
       "      <td>0.0</td>\n",
       "      <td>1.0</td>\n",
       "    </tr>\n",
       "    <tr>\n",
       "      <th>...</th>\n",
       "      <td>...</td>\n",
       "      <td>...</td>\n",
       "      <td>...</td>\n",
       "      <td>...</td>\n",
       "      <td>...</td>\n",
       "      <td>...</td>\n",
       "      <td>...</td>\n",
       "      <td>...</td>\n",
       "      <td>...</td>\n",
       "      <td>...</td>\n",
       "    </tr>\n",
       "    <tr>\n",
       "      <th>181</th>\n",
       "      <td>-1.441799</td>\n",
       "      <td>0.553308</td>\n",
       "      <td>0.636853</td>\n",
       "      <td>0.748420</td>\n",
       "      <td>0.758729</td>\n",
       "      <td>0.0</td>\n",
       "      <td>1.0</td>\n",
       "      <td>1.0</td>\n",
       "      <td>0.0</td>\n",
       "      <td>0.0</td>\n",
       "    </tr>\n",
       "    <tr>\n",
       "      <th>283</th>\n",
       "      <td>0.890640</td>\n",
       "      <td>-1.640869</td>\n",
       "      <td>0.636853</td>\n",
       "      <td>0.748420</td>\n",
       "      <td>-0.372520</td>\n",
       "      <td>1.0</td>\n",
       "      <td>0.0</td>\n",
       "      <td>1.0</td>\n",
       "      <td>0.0</td>\n",
       "      <td>0.0</td>\n",
       "    </tr>\n",
       "    <tr>\n",
       "      <th>390</th>\n",
       "      <td>-1.441799</td>\n",
       "      <td>-0.543780</td>\n",
       "      <td>-0.476686</td>\n",
       "      <td>-0.426519</td>\n",
       "      <td>0.930995</td>\n",
       "      <td>0.0</td>\n",
       "      <td>1.0</td>\n",
       "      <td>0.0</td>\n",
       "      <td>0.0</td>\n",
       "      <td>1.0</td>\n",
       "    </tr>\n",
       "    <tr>\n",
       "      <th>137</th>\n",
       "      <td>-0.275579</td>\n",
       "      <td>-0.308690</td>\n",
       "      <td>-0.476686</td>\n",
       "      <td>-0.426519</td>\n",
       "      <td>-0.409930</td>\n",
       "      <td>0.0</td>\n",
       "      <td>1.0</td>\n",
       "      <td>0.0</td>\n",
       "      <td>0.0</td>\n",
       "      <td>1.0</td>\n",
       "    </tr>\n",
       "    <tr>\n",
       "      <th>315</th>\n",
       "      <td>0.890640</td>\n",
       "      <td>-1.013961</td>\n",
       "      <td>-0.476686</td>\n",
       "      <td>-0.426519</td>\n",
       "      <td>-0.497660</td>\n",
       "      <td>1.0</td>\n",
       "      <td>0.0</td>\n",
       "      <td>0.0</td>\n",
       "      <td>1.0</td>\n",
       "      <td>0.0</td>\n",
       "    </tr>\n",
       "  </tbody>\n",
       "</table>\n",
       "<p>292 rows × 10 columns</p>\n",
       "</div>"
      ],
      "text/plain": [
       "       Pclass       Age     SibSp     Parch      Fare  Female  Male  \\\n",
       "192  0.890640 -1.444960  0.636853  0.748420 -0.384944     0.0   1.0   \n",
       "134  0.890640  1.023488 -0.476686 -0.426519 -0.494953     0.0   1.0   \n",
       "317 -0.275579 -0.857234 -0.476686 -0.426519 -0.451573     0.0   1.0   \n",
       "135  0.890640 -0.465417 -0.476686 -0.426519 -0.495646     0.0   1.0   \n",
       "72   0.890640 -0.073600 -0.476686 -0.426519 -0.494466     1.0   0.0   \n",
       "..        ...       ...       ...       ...       ...     ...   ...   \n",
       "181 -1.441799  0.553308  0.636853  0.748420  0.758729     0.0   1.0   \n",
       "283  0.890640 -1.640869  0.636853  0.748420 -0.372520     1.0   0.0   \n",
       "390 -1.441799 -0.543780 -0.476686 -0.426519  0.930995     0.0   1.0   \n",
       "137 -0.275579 -0.308690 -0.476686 -0.426519 -0.409930     0.0   1.0   \n",
       "315  0.890640 -1.013961 -0.476686 -0.426519 -0.497660     1.0   0.0   \n",
       "\n",
       "     Embarked_c  Embarked_S  Embarked_q  \n",
       "192         0.0         0.0         1.0  \n",
       "134         0.0         0.0         1.0  \n",
       "317         0.0         0.0         1.0  \n",
       "135         0.0         0.0         1.0  \n",
       "72          0.0         0.0         1.0  \n",
       "..          ...         ...         ...  \n",
       "181         1.0         0.0         0.0  \n",
       "283         1.0         0.0         0.0  \n",
       "390         0.0         0.0         1.0  \n",
       "137         0.0         0.0         1.0  \n",
       "315         0.0         1.0         0.0  \n",
       "\n",
       "[292 rows x 10 columns]"
      ]
     },
     "execution_count": 23,
     "metadata": {},
     "output_type": "execute_result"
    }
   ],
   "source": [
    "transformed_train_para"
   ]
  },
  {
   "cell_type": "code",
   "execution_count": 24,
   "id": "9cae8023-4e4c-453c-b465-baa4e7e76af2",
   "metadata": {},
   "outputs": [],
   "source": [
    "test_param=test_set.drop('Survived',axis=1)\n",
    "test_labels=test_set['Survived']"
   ]
  },
  {
   "cell_type": "code",
   "execution_count": 25,
   "id": "e44101b6-50bd-4d90-9e48-09c04cd0ae56",
   "metadata": {},
   "outputs": [],
   "source": [
    "temp=test_param.copy()"
   ]
  },
  {
   "cell_type": "code",
   "execution_count": 26,
   "id": "d4ee5e49-b077-45f4-aa8f-3d917824a6ab",
   "metadata": {},
   "outputs": [],
   "source": [
    "temp2=full_pipeline.fit_transform(temp)"
   ]
  },
  {
   "cell_type": "code",
   "execution_count": 27,
   "id": "0467e047-2672-4e18-9caf-412d37c0ab21",
   "metadata": {},
   "outputs": [],
   "source": [
    "transformed_test_para=pd.DataFrame(temp2,columns=['Pclass','Age', 'SibSp', 'Parch', 'Fare','Female','Male','Embarked_c','Embarked_S','Embarked_q'],index=temp.index)"
   ]
  },
  {
   "cell_type": "code",
   "execution_count": 28,
   "id": "c12aa326-d604-4a37-b313-3622ebc53cad",
   "metadata": {},
   "outputs": [
    {
     "data": {
      "text/html": [
       "<div>\n",
       "<style scoped>\n",
       "    .dataframe tbody tr th:only-of-type {\n",
       "        vertical-align: middle;\n",
       "    }\n",
       "\n",
       "    .dataframe tbody tr th {\n",
       "        vertical-align: top;\n",
       "    }\n",
       "\n",
       "    .dataframe thead th {\n",
       "        text-align: right;\n",
       "    }\n",
       "</style>\n",
       "<table border=\"1\" class=\"dataframe\">\n",
       "  <thead>\n",
       "    <tr style=\"text-align: right;\">\n",
       "      <th></th>\n",
       "      <th>Pclass</th>\n",
       "      <th>Age</th>\n",
       "      <th>SibSp</th>\n",
       "      <th>Parch</th>\n",
       "      <th>Fare</th>\n",
       "      <th>Female</th>\n",
       "      <th>Male</th>\n",
       "      <th>Embarked_c</th>\n",
       "      <th>Embarked_S</th>\n",
       "      <th>Embarked_q</th>\n",
       "    </tr>\n",
       "  </thead>\n",
       "  <tbody>\n",
       "    <tr>\n",
       "      <th>131</th>\n",
       "      <td>-1.67332</td>\n",
       "      <td>1.900885</td>\n",
       "      <td>-0.553748</td>\n",
       "      <td>-0.375548</td>\n",
       "      <td>-0.053824</td>\n",
       "      <td>0.0</td>\n",
       "      <td>1.0</td>\n",
       "      <td>1.0</td>\n",
       "      <td>0.0</td>\n",
       "      <td>0.0</td>\n",
       "    </tr>\n",
       "    <tr>\n",
       "      <th>45</th>\n",
       "      <td>0.83666</td>\n",
       "      <td>-0.348615</td>\n",
       "      <td>-0.553748</td>\n",
       "      <td>-0.375548</td>\n",
       "      <td>-0.521055</td>\n",
       "      <td>0.0</td>\n",
       "      <td>1.0</td>\n",
       "      <td>0.0</td>\n",
       "      <td>0.0</td>\n",
       "      <td>1.0</td>\n",
       "    </tr>\n",
       "    <tr>\n",
       "      <th>348</th>\n",
       "      <td>-0.41833</td>\n",
       "      <td>-0.428954</td>\n",
       "      <td>-0.553748</td>\n",
       "      <td>-0.375548</td>\n",
       "      <td>-0.394454</td>\n",
       "      <td>0.0</td>\n",
       "      <td>1.0</td>\n",
       "      <td>0.0</td>\n",
       "      <td>0.0</td>\n",
       "      <td>1.0</td>\n",
       "    </tr>\n",
       "    <tr>\n",
       "      <th>118</th>\n",
       "      <td>-1.67332</td>\n",
       "      <td>0.535117</td>\n",
       "      <td>-0.553748</td>\n",
       "      <td>-0.375548</td>\n",
       "      <td>1.007620</td>\n",
       "      <td>0.0</td>\n",
       "      <td>1.0</td>\n",
       "      <td>1.0</td>\n",
       "      <td>0.0</td>\n",
       "      <td>0.0</td>\n",
       "    </tr>\n",
       "    <tr>\n",
       "      <th>173</th>\n",
       "      <td>0.83666</td>\n",
       "      <td>-0.268276</td>\n",
       "      <td>-0.553748</td>\n",
       "      <td>-0.375548</td>\n",
       "      <td>-0.536856</td>\n",
       "      <td>0.0</td>\n",
       "      <td>1.0</td>\n",
       "      <td>1.0</td>\n",
       "      <td>0.0</td>\n",
       "      <td>0.0</td>\n",
       "    </tr>\n",
       "    <tr>\n",
       "      <th>...</th>\n",
       "      <td>...</td>\n",
       "      <td>...</td>\n",
       "      <td>...</td>\n",
       "      <td>...</td>\n",
       "      <td>...</td>\n",
       "      <td>...</td>\n",
       "      <td>...</td>\n",
       "      <td>...</td>\n",
       "      <td>...</td>\n",
       "      <td>...</td>\n",
       "    </tr>\n",
       "    <tr>\n",
       "      <th>364</th>\n",
       "      <td>-1.67332</td>\n",
       "      <td>-0.348615</td>\n",
       "      <td>0.571611</td>\n",
       "      <td>-0.375548</td>\n",
       "      <td>0.557987</td>\n",
       "      <td>1.0</td>\n",
       "      <td>0.0</td>\n",
       "      <td>1.0</td>\n",
       "      <td>0.0</td>\n",
       "      <td>0.0</td>\n",
       "    </tr>\n",
       "    <tr>\n",
       "      <th>322</th>\n",
       "      <td>-0.41833</td>\n",
       "      <td>-0.268276</td>\n",
       "      <td>-0.553748</td>\n",
       "      <td>-0.375548</td>\n",
       "      <td>-0.405808</td>\n",
       "      <td>0.0</td>\n",
       "      <td>1.0</td>\n",
       "      <td>0.0</td>\n",
       "      <td>0.0</td>\n",
       "      <td>1.0</td>\n",
       "    </tr>\n",
       "    <tr>\n",
       "      <th>1</th>\n",
       "      <td>0.83666</td>\n",
       "      <td>1.418849</td>\n",
       "      <td>0.571611</td>\n",
       "      <td>-0.375548</td>\n",
       "      <td>-0.542061</td>\n",
       "      <td>1.0</td>\n",
       "      <td>0.0</td>\n",
       "      <td>0.0</td>\n",
       "      <td>0.0</td>\n",
       "      <td>1.0</td>\n",
       "    </tr>\n",
       "    <tr>\n",
       "      <th>120</th>\n",
       "      <td>-0.41833</td>\n",
       "      <td>-1.393026</td>\n",
       "      <td>-0.553748</td>\n",
       "      <td>-0.375548</td>\n",
       "      <td>-0.343360</td>\n",
       "      <td>1.0</td>\n",
       "      <td>0.0</td>\n",
       "      <td>0.0</td>\n",
       "      <td>0.0</td>\n",
       "      <td>1.0</td>\n",
       "    </tr>\n",
       "    <tr>\n",
       "      <th>406</th>\n",
       "      <td>-0.41833</td>\n",
       "      <td>-0.509294</td>\n",
       "      <td>0.571611</td>\n",
       "      <td>-0.375548</td>\n",
       "      <td>-0.462580</td>\n",
       "      <td>0.0</td>\n",
       "      <td>1.0</td>\n",
       "      <td>0.0</td>\n",
       "      <td>0.0</td>\n",
       "      <td>1.0</td>\n",
       "    </tr>\n",
       "  </tbody>\n",
       "</table>\n",
       "<p>126 rows × 10 columns</p>\n",
       "</div>"
      ],
      "text/plain": [
       "      Pclass       Age     SibSp     Parch      Fare  Female  Male  \\\n",
       "131 -1.67332  1.900885 -0.553748 -0.375548 -0.053824     0.0   1.0   \n",
       "45   0.83666 -0.348615 -0.553748 -0.375548 -0.521055     0.0   1.0   \n",
       "348 -0.41833 -0.428954 -0.553748 -0.375548 -0.394454     0.0   1.0   \n",
       "118 -1.67332  0.535117 -0.553748 -0.375548  1.007620     0.0   1.0   \n",
       "173  0.83666 -0.268276 -0.553748 -0.375548 -0.536856     0.0   1.0   \n",
       "..       ...       ...       ...       ...       ...     ...   ...   \n",
       "364 -1.67332 -0.348615  0.571611 -0.375548  0.557987     1.0   0.0   \n",
       "322 -0.41833 -0.268276 -0.553748 -0.375548 -0.405808     0.0   1.0   \n",
       "1    0.83666  1.418849  0.571611 -0.375548 -0.542061     1.0   0.0   \n",
       "120 -0.41833 -1.393026 -0.553748 -0.375548 -0.343360     1.0   0.0   \n",
       "406 -0.41833 -0.509294  0.571611 -0.375548 -0.462580     0.0   1.0   \n",
       "\n",
       "     Embarked_c  Embarked_S  Embarked_q  \n",
       "131         1.0         0.0         0.0  \n",
       "45          0.0         0.0         1.0  \n",
       "348         0.0         0.0         1.0  \n",
       "118         1.0         0.0         0.0  \n",
       "173         1.0         0.0         0.0  \n",
       "..          ...         ...         ...  \n",
       "364         1.0         0.0         0.0  \n",
       "322         0.0         0.0         1.0  \n",
       "1           0.0         0.0         1.0  \n",
       "120         0.0         0.0         1.0  \n",
       "406         0.0         0.0         1.0  \n",
       "\n",
       "[126 rows x 10 columns]"
      ]
     },
     "execution_count": 28,
     "metadata": {},
     "output_type": "execute_result"
    }
   ],
   "source": [
    "transformed_test_para"
   ]
  },
  {
   "cell_type": "code",
   "execution_count": 29,
   "id": "2ca8c0fb-ce9a-40d4-bab0-bab79c13f9d3",
   "metadata": {},
   "outputs": [],
   "source": [
    "ds_tree=DecisionTreeClassifier(max_depth=1)\n",
    "kfold=KFold(n_splits=5,random_state=100,shuffle=True)\n",
    "score=cross_val_score(estimator=ds_tree,X=transformed_train_para,y=train_label,cv=kfold)"
   ]
  },
  {
   "cell_type": "markdown",
   "id": "f6a2e168-7666-40d2-94a2-8be7e56e40aa",
   "metadata": {},
   "source": [
    "## Random Forest"
   ]
  },
  {
   "cell_type": "code",
   "execution_count": 30,
   "id": "a2962279-0c2d-4908-9388-5811a748dfd3",
   "metadata": {},
   "outputs": [],
   "source": [
    "rnd_clf=RandomForestClassifier(n_estimators=500,max_leaf_nodes=16,n_jobs=-1)"
   ]
  },
  {
   "cell_type": "code",
   "execution_count": 31,
   "id": "f44b55cd-87a8-4b62-b61d-8ad93644357c",
   "metadata": {},
   "outputs": [
    {
     "data": {
      "text/html": [
       "<style>#sk-container-id-1 {color: black;background-color: white;}#sk-container-id-1 pre{padding: 0;}#sk-container-id-1 div.sk-toggleable {background-color: white;}#sk-container-id-1 label.sk-toggleable__label {cursor: pointer;display: block;width: 100%;margin-bottom: 0;padding: 0.3em;box-sizing: border-box;text-align: center;}#sk-container-id-1 label.sk-toggleable__label-arrow:before {content: \"▸\";float: left;margin-right: 0.25em;color: #696969;}#sk-container-id-1 label.sk-toggleable__label-arrow:hover:before {color: black;}#sk-container-id-1 div.sk-estimator:hover label.sk-toggleable__label-arrow:before {color: black;}#sk-container-id-1 div.sk-toggleable__content {max-height: 0;max-width: 0;overflow: hidden;text-align: left;background-color: #f0f8ff;}#sk-container-id-1 div.sk-toggleable__content pre {margin: 0.2em;color: black;border-radius: 0.25em;background-color: #f0f8ff;}#sk-container-id-1 input.sk-toggleable__control:checked~div.sk-toggleable__content {max-height: 200px;max-width: 100%;overflow: auto;}#sk-container-id-1 input.sk-toggleable__control:checked~label.sk-toggleable__label-arrow:before {content: \"▾\";}#sk-container-id-1 div.sk-estimator input.sk-toggleable__control:checked~label.sk-toggleable__label {background-color: #d4ebff;}#sk-container-id-1 div.sk-label input.sk-toggleable__control:checked~label.sk-toggleable__label {background-color: #d4ebff;}#sk-container-id-1 input.sk-hidden--visually {border: 0;clip: rect(1px 1px 1px 1px);clip: rect(1px, 1px, 1px, 1px);height: 1px;margin: -1px;overflow: hidden;padding: 0;position: absolute;width: 1px;}#sk-container-id-1 div.sk-estimator {font-family: monospace;background-color: #f0f8ff;border: 1px dotted black;border-radius: 0.25em;box-sizing: border-box;margin-bottom: 0.5em;}#sk-container-id-1 div.sk-estimator:hover {background-color: #d4ebff;}#sk-container-id-1 div.sk-parallel-item::after {content: \"\";width: 100%;border-bottom: 1px solid gray;flex-grow: 1;}#sk-container-id-1 div.sk-label:hover label.sk-toggleable__label {background-color: #d4ebff;}#sk-container-id-1 div.sk-serial::before {content: \"\";position: absolute;border-left: 1px solid gray;box-sizing: border-box;top: 0;bottom: 0;left: 50%;z-index: 0;}#sk-container-id-1 div.sk-serial {display: flex;flex-direction: column;align-items: center;background-color: white;padding-right: 0.2em;padding-left: 0.2em;position: relative;}#sk-container-id-1 div.sk-item {position: relative;z-index: 1;}#sk-container-id-1 div.sk-parallel {display: flex;align-items: stretch;justify-content: center;background-color: white;position: relative;}#sk-container-id-1 div.sk-item::before, #sk-container-id-1 div.sk-parallel-item::before {content: \"\";position: absolute;border-left: 1px solid gray;box-sizing: border-box;top: 0;bottom: 0;left: 50%;z-index: -1;}#sk-container-id-1 div.sk-parallel-item {display: flex;flex-direction: column;z-index: 1;position: relative;background-color: white;}#sk-container-id-1 div.sk-parallel-item:first-child::after {align-self: flex-end;width: 50%;}#sk-container-id-1 div.sk-parallel-item:last-child::after {align-self: flex-start;width: 50%;}#sk-container-id-1 div.sk-parallel-item:only-child::after {width: 0;}#sk-container-id-1 div.sk-dashed-wrapped {border: 1px dashed gray;margin: 0 0.4em 0.5em 0.4em;box-sizing: border-box;padding-bottom: 0.4em;background-color: white;}#sk-container-id-1 div.sk-label label {font-family: monospace;font-weight: bold;display: inline-block;line-height: 1.2em;}#sk-container-id-1 div.sk-label-container {text-align: center;}#sk-container-id-1 div.sk-container {/* jupyter's `normalize.less` sets `[hidden] { display: none; }` but bootstrap.min.css set `[hidden] { display: none !important; }` so we also need the `!important` here to be able to override the default hidden behavior on the sphinx rendered scikit-learn.org. See: https://github.com/scikit-learn/scikit-learn/issues/21755 */display: inline-block !important;position: relative;}#sk-container-id-1 div.sk-text-repr-fallback {display: none;}</style><div id=\"sk-container-id-1\" class=\"sk-top-container\"><div class=\"sk-text-repr-fallback\"><pre>RandomForestClassifier(max_leaf_nodes=16, n_estimators=500, n_jobs=-1)</pre><b>In a Jupyter environment, please rerun this cell to show the HTML representation or trust the notebook. <br />On GitHub, the HTML representation is unable to render, please try loading this page with nbviewer.org.</b></div><div class=\"sk-container\" hidden><div class=\"sk-item\"><div class=\"sk-estimator sk-toggleable\"><input class=\"sk-toggleable__control sk-hidden--visually\" id=\"sk-estimator-id-1\" type=\"checkbox\" checked><label for=\"sk-estimator-id-1\" class=\"sk-toggleable__label sk-toggleable__label-arrow\">RandomForestClassifier</label><div class=\"sk-toggleable__content\"><pre>RandomForestClassifier(max_leaf_nodes=16, n_estimators=500, n_jobs=-1)</pre></div></div></div></div></div>"
      ],
      "text/plain": [
       "RandomForestClassifier(max_leaf_nodes=16, n_estimators=500, n_jobs=-1)"
      ]
     },
     "execution_count": 31,
     "metadata": {},
     "output_type": "execute_result"
    }
   ],
   "source": [
    "rnd_clf.fit(transformed_train_para,train_label)"
   ]
  },
  {
   "cell_type": "code",
   "execution_count": 32,
   "id": "5dec79b7-2b23-4bed-94b5-30a8a25129e7",
   "metadata": {},
   "outputs": [],
   "source": [
    "rnd_clf_pred=rnd_clf.predict(transformed_test_para)"
   ]
  },
  {
   "cell_type": "markdown",
   "id": "f867e487-5e74-4d31-b8e3-c908e5618594",
   "metadata": {},
   "source": [
    "## Bagging"
   ]
  },
  {
   "cell_type": "code",
   "execution_count": 33,
   "id": "e3d9d03a-6363-4833-be79-7217ad139d2c",
   "metadata": {},
   "outputs": [],
   "source": [
    "bag_clf=BaggingClassifier(DecisionTreeClassifier(splitter='random',max_leaf_nodes=16),n_estimators=500,max_samples=1.0,bootstrap=True,n_jobs=-1)"
   ]
  },
  {
   "cell_type": "code",
   "execution_count": 34,
   "id": "9decb2ed-59c8-443f-8b93-e7bc05742867",
   "metadata": {},
   "outputs": [
    {
     "data": {
      "text/html": [
       "<style>#sk-container-id-2 {color: black;background-color: white;}#sk-container-id-2 pre{padding: 0;}#sk-container-id-2 div.sk-toggleable {background-color: white;}#sk-container-id-2 label.sk-toggleable__label {cursor: pointer;display: block;width: 100%;margin-bottom: 0;padding: 0.3em;box-sizing: border-box;text-align: center;}#sk-container-id-2 label.sk-toggleable__label-arrow:before {content: \"▸\";float: left;margin-right: 0.25em;color: #696969;}#sk-container-id-2 label.sk-toggleable__label-arrow:hover:before {color: black;}#sk-container-id-2 div.sk-estimator:hover label.sk-toggleable__label-arrow:before {color: black;}#sk-container-id-2 div.sk-toggleable__content {max-height: 0;max-width: 0;overflow: hidden;text-align: left;background-color: #f0f8ff;}#sk-container-id-2 div.sk-toggleable__content pre {margin: 0.2em;color: black;border-radius: 0.25em;background-color: #f0f8ff;}#sk-container-id-2 input.sk-toggleable__control:checked~div.sk-toggleable__content {max-height: 200px;max-width: 100%;overflow: auto;}#sk-container-id-2 input.sk-toggleable__control:checked~label.sk-toggleable__label-arrow:before {content: \"▾\";}#sk-container-id-2 div.sk-estimator input.sk-toggleable__control:checked~label.sk-toggleable__label {background-color: #d4ebff;}#sk-container-id-2 div.sk-label input.sk-toggleable__control:checked~label.sk-toggleable__label {background-color: #d4ebff;}#sk-container-id-2 input.sk-hidden--visually {border: 0;clip: rect(1px 1px 1px 1px);clip: rect(1px, 1px, 1px, 1px);height: 1px;margin: -1px;overflow: hidden;padding: 0;position: absolute;width: 1px;}#sk-container-id-2 div.sk-estimator {font-family: monospace;background-color: #f0f8ff;border: 1px dotted black;border-radius: 0.25em;box-sizing: border-box;margin-bottom: 0.5em;}#sk-container-id-2 div.sk-estimator:hover {background-color: #d4ebff;}#sk-container-id-2 div.sk-parallel-item::after {content: \"\";width: 100%;border-bottom: 1px solid gray;flex-grow: 1;}#sk-container-id-2 div.sk-label:hover label.sk-toggleable__label {background-color: #d4ebff;}#sk-container-id-2 div.sk-serial::before {content: \"\";position: absolute;border-left: 1px solid gray;box-sizing: border-box;top: 0;bottom: 0;left: 50%;z-index: 0;}#sk-container-id-2 div.sk-serial {display: flex;flex-direction: column;align-items: center;background-color: white;padding-right: 0.2em;padding-left: 0.2em;position: relative;}#sk-container-id-2 div.sk-item {position: relative;z-index: 1;}#sk-container-id-2 div.sk-parallel {display: flex;align-items: stretch;justify-content: center;background-color: white;position: relative;}#sk-container-id-2 div.sk-item::before, #sk-container-id-2 div.sk-parallel-item::before {content: \"\";position: absolute;border-left: 1px solid gray;box-sizing: border-box;top: 0;bottom: 0;left: 50%;z-index: -1;}#sk-container-id-2 div.sk-parallel-item {display: flex;flex-direction: column;z-index: 1;position: relative;background-color: white;}#sk-container-id-2 div.sk-parallel-item:first-child::after {align-self: flex-end;width: 50%;}#sk-container-id-2 div.sk-parallel-item:last-child::after {align-self: flex-start;width: 50%;}#sk-container-id-2 div.sk-parallel-item:only-child::after {width: 0;}#sk-container-id-2 div.sk-dashed-wrapped {border: 1px dashed gray;margin: 0 0.4em 0.5em 0.4em;box-sizing: border-box;padding-bottom: 0.4em;background-color: white;}#sk-container-id-2 div.sk-label label {font-family: monospace;font-weight: bold;display: inline-block;line-height: 1.2em;}#sk-container-id-2 div.sk-label-container {text-align: center;}#sk-container-id-2 div.sk-container {/* jupyter's `normalize.less` sets `[hidden] { display: none; }` but bootstrap.min.css set `[hidden] { display: none !important; }` so we also need the `!important` here to be able to override the default hidden behavior on the sphinx rendered scikit-learn.org. See: https://github.com/scikit-learn/scikit-learn/issues/21755 */display: inline-block !important;position: relative;}#sk-container-id-2 div.sk-text-repr-fallback {display: none;}</style><div id=\"sk-container-id-2\" class=\"sk-top-container\"><div class=\"sk-text-repr-fallback\"><pre>BaggingClassifier(estimator=DecisionTreeClassifier(max_leaf_nodes=16,\n",
       "                                                   splitter=&#x27;random&#x27;),\n",
       "                  n_estimators=500, n_jobs=-1)</pre><b>In a Jupyter environment, please rerun this cell to show the HTML representation or trust the notebook. <br />On GitHub, the HTML representation is unable to render, please try loading this page with nbviewer.org.</b></div><div class=\"sk-container\" hidden><div class=\"sk-item sk-dashed-wrapped\"><div class=\"sk-label-container\"><div class=\"sk-label sk-toggleable\"><input class=\"sk-toggleable__control sk-hidden--visually\" id=\"sk-estimator-id-2\" type=\"checkbox\" ><label for=\"sk-estimator-id-2\" class=\"sk-toggleable__label sk-toggleable__label-arrow\">BaggingClassifier</label><div class=\"sk-toggleable__content\"><pre>BaggingClassifier(estimator=DecisionTreeClassifier(max_leaf_nodes=16,\n",
       "                                                   splitter=&#x27;random&#x27;),\n",
       "                  n_estimators=500, n_jobs=-1)</pre></div></div></div><div class=\"sk-parallel\"><div class=\"sk-parallel-item\"><div class=\"sk-item\"><div class=\"sk-label-container\"><div class=\"sk-label sk-toggleable\"><input class=\"sk-toggleable__control sk-hidden--visually\" id=\"sk-estimator-id-3\" type=\"checkbox\" ><label for=\"sk-estimator-id-3\" class=\"sk-toggleable__label sk-toggleable__label-arrow\">estimator: DecisionTreeClassifier</label><div class=\"sk-toggleable__content\"><pre>DecisionTreeClassifier(max_leaf_nodes=16, splitter=&#x27;random&#x27;)</pre></div></div></div><div class=\"sk-serial\"><div class=\"sk-item\"><div class=\"sk-estimator sk-toggleable\"><input class=\"sk-toggleable__control sk-hidden--visually\" id=\"sk-estimator-id-4\" type=\"checkbox\" ><label for=\"sk-estimator-id-4\" class=\"sk-toggleable__label sk-toggleable__label-arrow\">DecisionTreeClassifier</label><div class=\"sk-toggleable__content\"><pre>DecisionTreeClassifier(max_leaf_nodes=16, splitter=&#x27;random&#x27;)</pre></div></div></div></div></div></div></div></div></div></div>"
      ],
      "text/plain": [
       "BaggingClassifier(estimator=DecisionTreeClassifier(max_leaf_nodes=16,\n",
       "                                                   splitter='random'),\n",
       "                  n_estimators=500, n_jobs=-1)"
      ]
     },
     "execution_count": 34,
     "metadata": {},
     "output_type": "execute_result"
    }
   ],
   "source": [
    "bag_clf.fit(transformed_train_para,train_label)"
   ]
  },
  {
   "cell_type": "code",
   "execution_count": 35,
   "id": "a855276c-e0a3-4c10-abdd-29393160b5ea",
   "metadata": {},
   "outputs": [],
   "source": [
    "bag_clf_pred=bag_clf.predict(transformed_test_para)"
   ]
  },
  {
   "cell_type": "markdown",
   "id": "86bfd4cb-37ee-4665-b758-bb38a337cc27",
   "metadata": {},
   "source": [
    "## AdaBoost"
   ]
  },
  {
   "cell_type": "code",
   "execution_count": 36,
   "id": "72eabe2d-36b4-4ea4-bd46-c0c4fb34f957",
   "metadata": {},
   "outputs": [],
   "source": [
    "ada_clf=AdaBoostClassifier(DecisionTreeClassifier(max_depth=1),n_estimators=200,algorithm='SAMME.R',learning_rate=0.5)"
   ]
  },
  {
   "cell_type": "code",
   "execution_count": 37,
   "id": "4e0b56e6-a44d-4128-97c4-eb9b256b414b",
   "metadata": {},
   "outputs": [
    {
     "data": {
      "text/html": [
       "<style>#sk-container-id-3 {color: black;background-color: white;}#sk-container-id-3 pre{padding: 0;}#sk-container-id-3 div.sk-toggleable {background-color: white;}#sk-container-id-3 label.sk-toggleable__label {cursor: pointer;display: block;width: 100%;margin-bottom: 0;padding: 0.3em;box-sizing: border-box;text-align: center;}#sk-container-id-3 label.sk-toggleable__label-arrow:before {content: \"▸\";float: left;margin-right: 0.25em;color: #696969;}#sk-container-id-3 label.sk-toggleable__label-arrow:hover:before {color: black;}#sk-container-id-3 div.sk-estimator:hover label.sk-toggleable__label-arrow:before {color: black;}#sk-container-id-3 div.sk-toggleable__content {max-height: 0;max-width: 0;overflow: hidden;text-align: left;background-color: #f0f8ff;}#sk-container-id-3 div.sk-toggleable__content pre {margin: 0.2em;color: black;border-radius: 0.25em;background-color: #f0f8ff;}#sk-container-id-3 input.sk-toggleable__control:checked~div.sk-toggleable__content {max-height: 200px;max-width: 100%;overflow: auto;}#sk-container-id-3 input.sk-toggleable__control:checked~label.sk-toggleable__label-arrow:before {content: \"▾\";}#sk-container-id-3 div.sk-estimator input.sk-toggleable__control:checked~label.sk-toggleable__label {background-color: #d4ebff;}#sk-container-id-3 div.sk-label input.sk-toggleable__control:checked~label.sk-toggleable__label {background-color: #d4ebff;}#sk-container-id-3 input.sk-hidden--visually {border: 0;clip: rect(1px 1px 1px 1px);clip: rect(1px, 1px, 1px, 1px);height: 1px;margin: -1px;overflow: hidden;padding: 0;position: absolute;width: 1px;}#sk-container-id-3 div.sk-estimator {font-family: monospace;background-color: #f0f8ff;border: 1px dotted black;border-radius: 0.25em;box-sizing: border-box;margin-bottom: 0.5em;}#sk-container-id-3 div.sk-estimator:hover {background-color: #d4ebff;}#sk-container-id-3 div.sk-parallel-item::after {content: \"\";width: 100%;border-bottom: 1px solid gray;flex-grow: 1;}#sk-container-id-3 div.sk-label:hover label.sk-toggleable__label {background-color: #d4ebff;}#sk-container-id-3 div.sk-serial::before {content: \"\";position: absolute;border-left: 1px solid gray;box-sizing: border-box;top: 0;bottom: 0;left: 50%;z-index: 0;}#sk-container-id-3 div.sk-serial {display: flex;flex-direction: column;align-items: center;background-color: white;padding-right: 0.2em;padding-left: 0.2em;position: relative;}#sk-container-id-3 div.sk-item {position: relative;z-index: 1;}#sk-container-id-3 div.sk-parallel {display: flex;align-items: stretch;justify-content: center;background-color: white;position: relative;}#sk-container-id-3 div.sk-item::before, #sk-container-id-3 div.sk-parallel-item::before {content: \"\";position: absolute;border-left: 1px solid gray;box-sizing: border-box;top: 0;bottom: 0;left: 50%;z-index: -1;}#sk-container-id-3 div.sk-parallel-item {display: flex;flex-direction: column;z-index: 1;position: relative;background-color: white;}#sk-container-id-3 div.sk-parallel-item:first-child::after {align-self: flex-end;width: 50%;}#sk-container-id-3 div.sk-parallel-item:last-child::after {align-self: flex-start;width: 50%;}#sk-container-id-3 div.sk-parallel-item:only-child::after {width: 0;}#sk-container-id-3 div.sk-dashed-wrapped {border: 1px dashed gray;margin: 0 0.4em 0.5em 0.4em;box-sizing: border-box;padding-bottom: 0.4em;background-color: white;}#sk-container-id-3 div.sk-label label {font-family: monospace;font-weight: bold;display: inline-block;line-height: 1.2em;}#sk-container-id-3 div.sk-label-container {text-align: center;}#sk-container-id-3 div.sk-container {/* jupyter's `normalize.less` sets `[hidden] { display: none; }` but bootstrap.min.css set `[hidden] { display: none !important; }` so we also need the `!important` here to be able to override the default hidden behavior on the sphinx rendered scikit-learn.org. See: https://github.com/scikit-learn/scikit-learn/issues/21755 */display: inline-block !important;position: relative;}#sk-container-id-3 div.sk-text-repr-fallback {display: none;}</style><div id=\"sk-container-id-3\" class=\"sk-top-container\"><div class=\"sk-text-repr-fallback\"><pre>AdaBoostClassifier(estimator=DecisionTreeClassifier(max_depth=1),\n",
       "                   learning_rate=0.5, n_estimators=200)</pre><b>In a Jupyter environment, please rerun this cell to show the HTML representation or trust the notebook. <br />On GitHub, the HTML representation is unable to render, please try loading this page with nbviewer.org.</b></div><div class=\"sk-container\" hidden><div class=\"sk-item sk-dashed-wrapped\"><div class=\"sk-label-container\"><div class=\"sk-label sk-toggleable\"><input class=\"sk-toggleable__control sk-hidden--visually\" id=\"sk-estimator-id-5\" type=\"checkbox\" ><label for=\"sk-estimator-id-5\" class=\"sk-toggleable__label sk-toggleable__label-arrow\">AdaBoostClassifier</label><div class=\"sk-toggleable__content\"><pre>AdaBoostClassifier(estimator=DecisionTreeClassifier(max_depth=1),\n",
       "                   learning_rate=0.5, n_estimators=200)</pre></div></div></div><div class=\"sk-parallel\"><div class=\"sk-parallel-item\"><div class=\"sk-item\"><div class=\"sk-label-container\"><div class=\"sk-label sk-toggleable\"><input class=\"sk-toggleable__control sk-hidden--visually\" id=\"sk-estimator-id-6\" type=\"checkbox\" ><label for=\"sk-estimator-id-6\" class=\"sk-toggleable__label sk-toggleable__label-arrow\">estimator: DecisionTreeClassifier</label><div class=\"sk-toggleable__content\"><pre>DecisionTreeClassifier(max_depth=1)</pre></div></div></div><div class=\"sk-serial\"><div class=\"sk-item\"><div class=\"sk-estimator sk-toggleable\"><input class=\"sk-toggleable__control sk-hidden--visually\" id=\"sk-estimator-id-7\" type=\"checkbox\" ><label for=\"sk-estimator-id-7\" class=\"sk-toggleable__label sk-toggleable__label-arrow\">DecisionTreeClassifier</label><div class=\"sk-toggleable__content\"><pre>DecisionTreeClassifier(max_depth=1)</pre></div></div></div></div></div></div></div></div></div></div>"
      ],
      "text/plain": [
       "AdaBoostClassifier(estimator=DecisionTreeClassifier(max_depth=1),\n",
       "                   learning_rate=0.5, n_estimators=200)"
      ]
     },
     "execution_count": 37,
     "metadata": {},
     "output_type": "execute_result"
    }
   ],
   "source": [
    "ada_clf.fit(transformed_train_para,train_label)"
   ]
  },
  {
   "cell_type": "code",
   "execution_count": 38,
   "id": "fb573ed6-7cd0-417c-b531-ba305804b720",
   "metadata": {},
   "outputs": [],
   "source": [
    "ada_clf_pred=ada_clf.predict(transformed_test_para)"
   ]
  },
  {
   "cell_type": "markdown",
   "id": "46988aa2-1635-4a6c-bb35-03a4fa75c30a",
   "metadata": {},
   "source": [
    "## Gradient boosting"
   ]
  },
  {
   "cell_type": "code",
   "execution_count": 39,
   "id": "12848b07-bfa1-486c-83ec-e4dfabab16fb",
   "metadata": {},
   "outputs": [],
   "source": [
    "gb_clf=GradientBoostingClassifier(max_depth=2,n_estimators=3,learning_rate=1.0)"
   ]
  },
  {
   "cell_type": "code",
   "execution_count": 40,
   "id": "f19ea6b3-f8a0-4354-be83-19ab41c60459",
   "metadata": {},
   "outputs": [
    {
     "data": {
      "text/html": [
       "<style>#sk-container-id-4 {color: black;background-color: white;}#sk-container-id-4 pre{padding: 0;}#sk-container-id-4 div.sk-toggleable {background-color: white;}#sk-container-id-4 label.sk-toggleable__label {cursor: pointer;display: block;width: 100%;margin-bottom: 0;padding: 0.3em;box-sizing: border-box;text-align: center;}#sk-container-id-4 label.sk-toggleable__label-arrow:before {content: \"▸\";float: left;margin-right: 0.25em;color: #696969;}#sk-container-id-4 label.sk-toggleable__label-arrow:hover:before {color: black;}#sk-container-id-4 div.sk-estimator:hover label.sk-toggleable__label-arrow:before {color: black;}#sk-container-id-4 div.sk-toggleable__content {max-height: 0;max-width: 0;overflow: hidden;text-align: left;background-color: #f0f8ff;}#sk-container-id-4 div.sk-toggleable__content pre {margin: 0.2em;color: black;border-radius: 0.25em;background-color: #f0f8ff;}#sk-container-id-4 input.sk-toggleable__control:checked~div.sk-toggleable__content {max-height: 200px;max-width: 100%;overflow: auto;}#sk-container-id-4 input.sk-toggleable__control:checked~label.sk-toggleable__label-arrow:before {content: \"▾\";}#sk-container-id-4 div.sk-estimator input.sk-toggleable__control:checked~label.sk-toggleable__label {background-color: #d4ebff;}#sk-container-id-4 div.sk-label input.sk-toggleable__control:checked~label.sk-toggleable__label {background-color: #d4ebff;}#sk-container-id-4 input.sk-hidden--visually {border: 0;clip: rect(1px 1px 1px 1px);clip: rect(1px, 1px, 1px, 1px);height: 1px;margin: -1px;overflow: hidden;padding: 0;position: absolute;width: 1px;}#sk-container-id-4 div.sk-estimator {font-family: monospace;background-color: #f0f8ff;border: 1px dotted black;border-radius: 0.25em;box-sizing: border-box;margin-bottom: 0.5em;}#sk-container-id-4 div.sk-estimator:hover {background-color: #d4ebff;}#sk-container-id-4 div.sk-parallel-item::after {content: \"\";width: 100%;border-bottom: 1px solid gray;flex-grow: 1;}#sk-container-id-4 div.sk-label:hover label.sk-toggleable__label {background-color: #d4ebff;}#sk-container-id-4 div.sk-serial::before {content: \"\";position: absolute;border-left: 1px solid gray;box-sizing: border-box;top: 0;bottom: 0;left: 50%;z-index: 0;}#sk-container-id-4 div.sk-serial {display: flex;flex-direction: column;align-items: center;background-color: white;padding-right: 0.2em;padding-left: 0.2em;position: relative;}#sk-container-id-4 div.sk-item {position: relative;z-index: 1;}#sk-container-id-4 div.sk-parallel {display: flex;align-items: stretch;justify-content: center;background-color: white;position: relative;}#sk-container-id-4 div.sk-item::before, #sk-container-id-4 div.sk-parallel-item::before {content: \"\";position: absolute;border-left: 1px solid gray;box-sizing: border-box;top: 0;bottom: 0;left: 50%;z-index: -1;}#sk-container-id-4 div.sk-parallel-item {display: flex;flex-direction: column;z-index: 1;position: relative;background-color: white;}#sk-container-id-4 div.sk-parallel-item:first-child::after {align-self: flex-end;width: 50%;}#sk-container-id-4 div.sk-parallel-item:last-child::after {align-self: flex-start;width: 50%;}#sk-container-id-4 div.sk-parallel-item:only-child::after {width: 0;}#sk-container-id-4 div.sk-dashed-wrapped {border: 1px dashed gray;margin: 0 0.4em 0.5em 0.4em;box-sizing: border-box;padding-bottom: 0.4em;background-color: white;}#sk-container-id-4 div.sk-label label {font-family: monospace;font-weight: bold;display: inline-block;line-height: 1.2em;}#sk-container-id-4 div.sk-label-container {text-align: center;}#sk-container-id-4 div.sk-container {/* jupyter's `normalize.less` sets `[hidden] { display: none; }` but bootstrap.min.css set `[hidden] { display: none !important; }` so we also need the `!important` here to be able to override the default hidden behavior on the sphinx rendered scikit-learn.org. See: https://github.com/scikit-learn/scikit-learn/issues/21755 */display: inline-block !important;position: relative;}#sk-container-id-4 div.sk-text-repr-fallback {display: none;}</style><div id=\"sk-container-id-4\" class=\"sk-top-container\"><div class=\"sk-text-repr-fallback\"><pre>GradientBoostingClassifier(learning_rate=1.0, max_depth=2, n_estimators=3)</pre><b>In a Jupyter environment, please rerun this cell to show the HTML representation or trust the notebook. <br />On GitHub, the HTML representation is unable to render, please try loading this page with nbviewer.org.</b></div><div class=\"sk-container\" hidden><div class=\"sk-item\"><div class=\"sk-estimator sk-toggleable\"><input class=\"sk-toggleable__control sk-hidden--visually\" id=\"sk-estimator-id-8\" type=\"checkbox\" checked><label for=\"sk-estimator-id-8\" class=\"sk-toggleable__label sk-toggleable__label-arrow\">GradientBoostingClassifier</label><div class=\"sk-toggleable__content\"><pre>GradientBoostingClassifier(learning_rate=1.0, max_depth=2, n_estimators=3)</pre></div></div></div></div></div>"
      ],
      "text/plain": [
       "GradientBoostingClassifier(learning_rate=1.0, max_depth=2, n_estimators=3)"
      ]
     },
     "execution_count": 40,
     "metadata": {},
     "output_type": "execute_result"
    }
   ],
   "source": [
    "gb_clf.fit(transformed_train_para,train_label)"
   ]
  },
  {
   "cell_type": "code",
   "execution_count": 41,
   "id": "1a636ba7-59a1-4f5d-8306-68c675b9a7f4",
   "metadata": {},
   "outputs": [],
   "source": [
    "gb_clf_pred=gb_clf.predict(transformed_test_para)"
   ]
  },
  {
   "cell_type": "markdown",
   "id": "77eca96b-636e-42b4-9f1b-f3a2b0e29ce9",
   "metadata": {},
   "source": [
    "## XGBoost"
   ]
  },
  {
   "cell_type": "code",
   "execution_count": 42,
   "id": "84c8c442-852a-45ea-901e-9e95bb097cd3",
   "metadata": {},
   "outputs": [],
   "source": [
    "xgb_model=xgb.XGBClassifier()"
   ]
  },
  {
   "cell_type": "code",
   "execution_count": 43,
   "id": "d284b2fd-5028-41ea-84a5-33282cdca77a",
   "metadata": {},
   "outputs": [
    {
     "data": {
      "text/html": [
       "<style>#sk-container-id-5 {color: black;background-color: white;}#sk-container-id-5 pre{padding: 0;}#sk-container-id-5 div.sk-toggleable {background-color: white;}#sk-container-id-5 label.sk-toggleable__label {cursor: pointer;display: block;width: 100%;margin-bottom: 0;padding: 0.3em;box-sizing: border-box;text-align: center;}#sk-container-id-5 label.sk-toggleable__label-arrow:before {content: \"▸\";float: left;margin-right: 0.25em;color: #696969;}#sk-container-id-5 label.sk-toggleable__label-arrow:hover:before {color: black;}#sk-container-id-5 div.sk-estimator:hover label.sk-toggleable__label-arrow:before {color: black;}#sk-container-id-5 div.sk-toggleable__content {max-height: 0;max-width: 0;overflow: hidden;text-align: left;background-color: #f0f8ff;}#sk-container-id-5 div.sk-toggleable__content pre {margin: 0.2em;color: black;border-radius: 0.25em;background-color: #f0f8ff;}#sk-container-id-5 input.sk-toggleable__control:checked~div.sk-toggleable__content {max-height: 200px;max-width: 100%;overflow: auto;}#sk-container-id-5 input.sk-toggleable__control:checked~label.sk-toggleable__label-arrow:before {content: \"▾\";}#sk-container-id-5 div.sk-estimator input.sk-toggleable__control:checked~label.sk-toggleable__label {background-color: #d4ebff;}#sk-container-id-5 div.sk-label input.sk-toggleable__control:checked~label.sk-toggleable__label {background-color: #d4ebff;}#sk-container-id-5 input.sk-hidden--visually {border: 0;clip: rect(1px 1px 1px 1px);clip: rect(1px, 1px, 1px, 1px);height: 1px;margin: -1px;overflow: hidden;padding: 0;position: absolute;width: 1px;}#sk-container-id-5 div.sk-estimator {font-family: monospace;background-color: #f0f8ff;border: 1px dotted black;border-radius: 0.25em;box-sizing: border-box;margin-bottom: 0.5em;}#sk-container-id-5 div.sk-estimator:hover {background-color: #d4ebff;}#sk-container-id-5 div.sk-parallel-item::after {content: \"\";width: 100%;border-bottom: 1px solid gray;flex-grow: 1;}#sk-container-id-5 div.sk-label:hover label.sk-toggleable__label {background-color: #d4ebff;}#sk-container-id-5 div.sk-serial::before {content: \"\";position: absolute;border-left: 1px solid gray;box-sizing: border-box;top: 0;bottom: 0;left: 50%;z-index: 0;}#sk-container-id-5 div.sk-serial {display: flex;flex-direction: column;align-items: center;background-color: white;padding-right: 0.2em;padding-left: 0.2em;position: relative;}#sk-container-id-5 div.sk-item {position: relative;z-index: 1;}#sk-container-id-5 div.sk-parallel {display: flex;align-items: stretch;justify-content: center;background-color: white;position: relative;}#sk-container-id-5 div.sk-item::before, #sk-container-id-5 div.sk-parallel-item::before {content: \"\";position: absolute;border-left: 1px solid gray;box-sizing: border-box;top: 0;bottom: 0;left: 50%;z-index: -1;}#sk-container-id-5 div.sk-parallel-item {display: flex;flex-direction: column;z-index: 1;position: relative;background-color: white;}#sk-container-id-5 div.sk-parallel-item:first-child::after {align-self: flex-end;width: 50%;}#sk-container-id-5 div.sk-parallel-item:last-child::after {align-self: flex-start;width: 50%;}#sk-container-id-5 div.sk-parallel-item:only-child::after {width: 0;}#sk-container-id-5 div.sk-dashed-wrapped {border: 1px dashed gray;margin: 0 0.4em 0.5em 0.4em;box-sizing: border-box;padding-bottom: 0.4em;background-color: white;}#sk-container-id-5 div.sk-label label {font-family: monospace;font-weight: bold;display: inline-block;line-height: 1.2em;}#sk-container-id-5 div.sk-label-container {text-align: center;}#sk-container-id-5 div.sk-container {/* jupyter's `normalize.less` sets `[hidden] { display: none; }` but bootstrap.min.css set `[hidden] { display: none !important; }` so we also need the `!important` here to be able to override the default hidden behavior on the sphinx rendered scikit-learn.org. See: https://github.com/scikit-learn/scikit-learn/issues/21755 */display: inline-block !important;position: relative;}#sk-container-id-5 div.sk-text-repr-fallback {display: none;}</style><div id=\"sk-container-id-5\" class=\"sk-top-container\"><div class=\"sk-text-repr-fallback\"><pre>XGBClassifier(base_score=None, booster=None, callbacks=None,\n",
       "              colsample_bylevel=None, colsample_bynode=None,\n",
       "              colsample_bytree=None, device=None, early_stopping_rounds=None,\n",
       "              enable_categorical=False, eval_metric=None, feature_types=None,\n",
       "              gamma=None, grow_policy=None, importance_type=None,\n",
       "              interaction_constraints=None, learning_rate=None, max_bin=None,\n",
       "              max_cat_threshold=None, max_cat_to_onehot=None,\n",
       "              max_delta_step=None, max_depth=None, max_leaves=None,\n",
       "              min_child_weight=None, missing=nan, monotone_constraints=None,\n",
       "              multi_strategy=None, n_estimators=None, n_jobs=None,\n",
       "              num_parallel_tree=None, random_state=None, ...)</pre><b>In a Jupyter environment, please rerun this cell to show the HTML representation or trust the notebook. <br />On GitHub, the HTML representation is unable to render, please try loading this page with nbviewer.org.</b></div><div class=\"sk-container\" hidden><div class=\"sk-item\"><div class=\"sk-estimator sk-toggleable\"><input class=\"sk-toggleable__control sk-hidden--visually\" id=\"sk-estimator-id-9\" type=\"checkbox\" checked><label for=\"sk-estimator-id-9\" class=\"sk-toggleable__label sk-toggleable__label-arrow\">XGBClassifier</label><div class=\"sk-toggleable__content\"><pre>XGBClassifier(base_score=None, booster=None, callbacks=None,\n",
       "              colsample_bylevel=None, colsample_bynode=None,\n",
       "              colsample_bytree=None, device=None, early_stopping_rounds=None,\n",
       "              enable_categorical=False, eval_metric=None, feature_types=None,\n",
       "              gamma=None, grow_policy=None, importance_type=None,\n",
       "              interaction_constraints=None, learning_rate=None, max_bin=None,\n",
       "              max_cat_threshold=None, max_cat_to_onehot=None,\n",
       "              max_delta_step=None, max_depth=None, max_leaves=None,\n",
       "              min_child_weight=None, missing=nan, monotone_constraints=None,\n",
       "              multi_strategy=None, n_estimators=None, n_jobs=None,\n",
       "              num_parallel_tree=None, random_state=None, ...)</pre></div></div></div></div></div>"
      ],
      "text/plain": [
       "XGBClassifier(base_score=None, booster=None, callbacks=None,\n",
       "              colsample_bylevel=None, colsample_bynode=None,\n",
       "              colsample_bytree=None, device=None, early_stopping_rounds=None,\n",
       "              enable_categorical=False, eval_metric=None, feature_types=None,\n",
       "              gamma=None, grow_policy=None, importance_type=None,\n",
       "              interaction_constraints=None, learning_rate=None, max_bin=None,\n",
       "              max_cat_threshold=None, max_cat_to_onehot=None,\n",
       "              max_delta_step=None, max_depth=None, max_leaves=None,\n",
       "              min_child_weight=None, missing=nan, monotone_constraints=None,\n",
       "              multi_strategy=None, n_estimators=None, n_jobs=None,\n",
       "              num_parallel_tree=None, random_state=None, ...)"
      ]
     },
     "execution_count": 43,
     "metadata": {},
     "output_type": "execute_result"
    }
   ],
   "source": [
    "xgb_model.fit(transformed_train_para,train_label)"
   ]
  },
  {
   "cell_type": "code",
   "execution_count": 44,
   "id": "d8615960-7c24-470e-a762-ea0718aa866b",
   "metadata": {},
   "outputs": [
    {
     "data": {
      "text/plain": [
       "array([0, 0, 0, 0, 0, 0, 0, 0, 0, 0, 0, 0, 0, 1, 0, 1, 1, 0, 1, 0, 0, 0,\n",
       "       1, 0, 0, 0, 0, 0, 0, 1, 0, 0, 1, 0, 0, 1, 1, 0, 0, 0, 1, 0, 0, 1,\n",
       "       1, 1, 0, 1, 1, 1, 0, 1, 0, 0, 0, 1, 1, 0, 1, 0, 1, 0, 1, 1, 0, 1,\n",
       "       0, 0, 0, 0, 1, 0, 0, 0, 1, 1, 1, 1, 1, 0, 1, 0, 0, 0, 0, 1, 0, 0,\n",
       "       0, 0, 1, 0, 1, 0, 0, 0, 1, 1, 0, 1, 0, 0, 0, 1, 1, 0, 0, 1, 0, 0,\n",
       "       0, 0, 0, 0, 0, 1, 1, 0, 0, 1, 0, 1, 0, 1, 1, 0])"
      ]
     },
     "execution_count": 44,
     "metadata": {},
     "output_type": "execute_result"
    }
   ],
   "source": [
    "xgb_pred=xgb_model.predict(transformed_test_para)\n",
    "xgb_pred"
   ]
  },
  {
   "cell_type": "markdown",
   "id": "b23c3e5f-d60f-4145-ac41-a5174bfae945",
   "metadata": {},
   "source": [
    "## Blending"
   ]
  },
  {
   "cell_type": "code",
   "execution_count": 45,
   "id": "0330271f-57da-42da-b627-798f6d8948ff",
   "metadata": {},
   "outputs": [],
   "source": [
    "class blending_ensemble:\n",
    "    def __init__(self,meta_model,models):\n",
    "        self.meta_model=meta_model\n",
    "        self.models=models\n",
    "        self.data=None\n",
    "        self.labels=None\n",
    "        self.tst_size=None\n",
    "        \n",
    "        \n",
    "    def get_meta_train_data(self):\n",
    "        train_meta=[]\n",
    "        from sklearn.model_selection import train_test_split\n",
    "        train_para, val_para ,train_labels, val_labels=train_test_split(self.data,self.labels,test_size=self.tst_size,stratify=self.labels)\n",
    "        for model in models:\n",
    "            model.fit(train_para,train_labels)\n",
    "            preds=model.predict(val_para)\n",
    "            preds=preds.reshape(len(preds),1)\n",
    "            train_meta.append(preds)\n",
    "            \n",
    "        train_meta=np.hstack(train_meta)\n",
    "            \n",
    "        return (train_meta,val_labels)\n",
    "    \n",
    "    def get_meta_test_data(self,predict_data):\n",
    "        test_meta=[]\n",
    "        for model in models:\n",
    "            \n",
    "            preds=model.predict(predict_data)\n",
    "            preds=preds.reshape(len(preds),1)\n",
    "            test_meta.append(preds)\n",
    "        test_meta=np.hstack(test_meta)\n",
    "        return test_meta\n",
    "            \n",
    "    def fit(self,train_data,train_labels,test_size):\n",
    "        self.data=train_data\n",
    "        self.labels=train_labels\n",
    "        self.tst_size=test_size\n",
    "        \n",
    "        meta_train_data,meta_train_labels=self.get_meta_train_data()\n",
    "        # print(meta_train_data)\n",
    "        self.meta_model.fit(meta_train_data,meta_train_labels)\n",
    "        \n",
    "    def predict(self,predict_data):\n",
    "        \n",
    "        meta_test_data=self.get_meta_test_data(predict_data)\n",
    "        # print(meta_test_data)\n",
    "        return self.meta_model.predict(meta_test_data)\n",
    "        "
   ]
  },
  {
   "cell_type": "code",
   "execution_count": 46,
   "id": "6ba5dd30-433d-4991-a4a9-7904c51976bd",
   "metadata": {},
   "outputs": [],
   "source": [
    "models=[DecisionTreeClassifier(),KNeighborsClassifier(),LogisticRegression(),SVC(probability=True),GaussianNB()]\n",
    "\n",
    "bl_en=blending_ensemble(meta_model=LogisticRegression(),models=models)"
   ]
  },
  {
   "cell_type": "code",
   "execution_count": 47,
   "id": "5e8b46ce-4308-4306-a119-638a7bb9d422",
   "metadata": {},
   "outputs": [],
   "source": [
    "bl_en.fit(transformed_train_para,train_label,test_size=0.3)"
   ]
  },
  {
   "cell_type": "code",
   "execution_count": 48,
   "id": "2e3dc29f-3cac-4d82-b14b-daaf73dff89b",
   "metadata": {},
   "outputs": [],
   "source": [
    "bl_pred=bl_en.predict(transformed_test_para)"
   ]
  },
  {
   "cell_type": "markdown",
   "id": "5bff0278-5259-4bfc-8511-9b91422abf6b",
   "metadata": {},
   "source": [
    "## Stacking"
   ]
  },
  {
   "cell_type": "code",
   "execution_count": 49,
   "id": "b2ff15d2-3b48-44be-b86a-891a0caa81c9",
   "metadata": {},
   "outputs": [],
   "source": [
    "class stacking_ensemble:\n",
    "    def __init__(self,models,meta_model):\n",
    "        self.data=None\n",
    "        self.models=models\n",
    "        self.meta_model=meta_model\n",
    "        self.labels=None\n",
    "        self.number_of_folds=None\n",
    "        \n",
    "        \n",
    "    def get_folds(self):\n",
    "        start=0\n",
    "        fold_size=len(self.data)//self.number_of_folds\n",
    "        folds=[]\n",
    "        for j in range(self.number_of_folds):\n",
    "            if j==(self.number_of_folds-1):\n",
    "                # print(start,start+fold_size)\n",
    "                hold_out=self.data[start:]\n",
    "                hold_out_labels=self.labels[start:]\n",
    "                \n",
    "                train_on=self.data[:start]\n",
    "                train_on_labels=self.labels[:start]\n",
    "                \n",
    "            else:\n",
    "                \n",
    "                hold_out=self.data[start:(start+fold_size)]\n",
    "                hold_out_labels=self.labels[start:(start+fold_size)]\n",
    "                \n",
    "                train_on=np.concatenate(( self.data[:start] , self.data[(start+fold_size):] ) ,axis=0)\n",
    "                train_on_labels=np.concatenate(( self.labels[:start] , self.labels[(start+fold_size):] ), axis=0)\n",
    "                \n",
    "            start+=fold_size\n",
    "        \n",
    "            folds.append((train_on,train_on_labels,hold_out,hold_out_labels))\n",
    "            \n",
    "        return folds\n",
    "        \n",
    "    def get_meta_train_data(self):\n",
    "        train_meta=[]\n",
    "        \n",
    "        folds=self.get_folds()\n",
    "        train_meta_labels=np.array([])\n",
    "        \n",
    "#         getting labels for validation set, this will be used in stacking_ensemble class\n",
    "        for i in folds:\n",
    "            train_meta_labels=np.concatenate((train_meta_labels,i[3]),axis=0)\n",
    "            \n",
    "        \n",
    "#         multiple models\n",
    "        if type(self.models)==list:\n",
    "            \n",
    "            for model in models:\n",
    "                \n",
    "                pred=np.array([])\n",
    "                pred=pred.reshape(len(pred),1)\n",
    "                \n",
    "                for i in folds:\n",
    "#                     train base model\n",
    "                    model.fit(i[0],i[1])\n",
    "#                     predict for validation set\n",
    "                    curr_pred=model.predict(i[2])\n",
    "    \n",
    "                    curr_pred=curr_pred.reshape(len(curr_pred),1)\n",
    "                    pred=np.concatenate((pred,curr_pred),axis=0)\n",
    "            \n",
    "                train_meta.append(pred)\n",
    "            train_meta=np.hstack(train_meta)\n",
    "            \n",
    "#         single model\n",
    "        else:\n",
    "            print('y')\n",
    "            pred=np.array([])\n",
    "            pred=pred.reshape(len(pred),1)\n",
    "            for i in folds:\n",
    "                self.models.fit(i[0],i[1])\n",
    "                curr_pred=self.models.predict(i[2])\n",
    "                curr_pred=curr_pred.reshape(len(curr_pred),1)\n",
    "                pred=np.concatenate((pred,curr_pred),axis=0)\n",
    "            train_meta.append(pred)\n",
    "            \n",
    "            \n",
    "        return (train_meta,train_meta_labels)\n",
    "                    \n",
    "                    \n",
    "    def get_meta_test_data(self,predict_data):\n",
    "        test_meta=[]\n",
    "        \n",
    "\n",
    "        if type(self.models)==list:\n",
    "            \n",
    "            pred=np.array([])\n",
    "            pred=pred.reshape(len(pred),1)\n",
    "            \n",
    "            for model in models:\n",
    "                \n",
    "                curr_pred=model.predict(predict_data)\n",
    "                curr_pred=curr_pred.reshape(len(curr_pred),1)\n",
    "                \n",
    "                test_meta.append(curr_pred)\n",
    "                \n",
    "            test_meta=np.hstack(test_meta)\n",
    "            \n",
    "        # single model\n",
    "        else:\n",
    "            \n",
    "            pred=np.array([])\n",
    "            pred=pred.reshape(len(pred),1)\n",
    "            curr_pred=models.predict(predict_data)\n",
    "            curr_pred=curr_pred.reshape(len(curr_pred),1)\n",
    "                \n",
    "            test_meta.append(curr_pred)\n",
    "            \n",
    "            \n",
    "        return test_meta\n",
    "\n",
    "        \n",
    "    def fit(self,data,labels,number_of_folds=5):\n",
    "        \n",
    "        self.data=np.array(data)\n",
    "        self.labels=np.array(labels)\n",
    "        self.number_of_folds=number_of_folds\n",
    "        meta_train_data,meta_train_labels=self.get_meta_train_data()\n",
    "        # print(meta_train_data)\n",
    "        self.meta_model.fit(meta_train_data,meta_train_labels)\n",
    "        \n",
    "    def predict(self,predict_data):\n",
    "        # temp=kfold(data=predict_data, labels=labels, models=base_layer_models, number_of_folds=number_of_folds)\n",
    "        predict_data=np.array(predict_data)\n",
    "        meta_test_data=self.get_meta_test_data(predict_data)\n",
    "        # print(meta_test_data)\n",
    "        return self.meta_model.predict(meta_test_data)"
   ]
  },
  {
   "cell_type": "code",
   "execution_count": 50,
   "id": "d637a446-e047-430a-b17f-4cd81237a36a",
   "metadata": {},
   "outputs": [],
   "source": [
    "models=[DecisionTreeClassifier(),KNeighborsClassifier(),LogisticRegression(),SVC(probability=True),GaussianNB()]\n",
    "stk=stacking_ensemble(meta_model=LogisticRegression(),models=models)"
   ]
  },
  {
   "cell_type": "code",
   "execution_count": 51,
   "id": "fd74f27c-9ce4-4b64-a150-d80498f6ad23",
   "metadata": {
    "tags": []
   },
   "outputs": [],
   "source": [
    "stk.fit(data=transformed_train_para,labels=train_label,number_of_folds=10)"
   ]
  },
  {
   "cell_type": "code",
   "execution_count": 52,
   "id": "412918c7-ace9-432d-8f29-3d59cda23a7b",
   "metadata": {},
   "outputs": [],
   "source": [
    "stk_pred=stk.predict(transformed_test_para)"
   ]
  },
  {
   "cell_type": "code",
   "execution_count": 53,
   "id": "ccfedd72-60d6-4897-bb97-f51db2759adc",
   "metadata": {},
   "outputs": [],
   "source": [
    "from sklearn.metrics import recall_score,accuracy_score,precision_score,f1_score"
   ]
  },
  {
   "cell_type": "markdown",
   "id": "af602810-3598-46c9-8c82-a17a1d443244",
   "metadata": {},
   "source": [
    "## Accuracy"
   ]
  },
  {
   "cell_type": "code",
   "execution_count": 54,
   "id": "0831deaa-6f5a-41f2-95e6-5b6152b06274",
   "metadata": {},
   "outputs": [
    {
     "name": "stdout",
     "output_type": "stream",
     "text": [
      "bagging: 1.0\n",
      "gradient boosting: 1.0\n",
      "AdaBoosting: 1.0\n",
      "xgboosting: 1.0\n",
      "blending: 1.0\n",
      "stacking: 1.0\n"
     ]
    }
   ],
   "source": [
    "print(f'bagging: {accuracy_score(y_true=test_labels, y_pred=bag_clf_pred)}')\n",
    "print(f'gradient boosting: {accuracy_score(y_true=test_labels, y_pred=gb_clf_pred)}')\n",
    "print(f'AdaBoosting: {accuracy_score(y_true=test_labels, y_pred=ada_clf_pred)}')\n",
    "print(f'xgboosting: {accuracy_score(y_true=test_labels, y_pred=xgb_pred)}')\n",
    "print(f'blending: {accuracy_score(y_true=test_labels, y_pred=bl_pred)}')\n",
    "print(f'stacking: {accuracy_score(y_true=test_labels, y_pred=stk_pred)}')"
   ]
  },
  {
   "cell_type": "markdown",
   "id": "49f3617c-55f7-444a-9c65-6976b4301196",
   "metadata": {},
   "source": [
    "## precision"
   ]
  },
  {
   "cell_type": "code",
   "execution_count": 55,
   "id": "57c054b2-4e0a-4abb-9ec8-19c72569ba7f",
   "metadata": {},
   "outputs": [
    {
     "name": "stdout",
     "output_type": "stream",
     "text": [
      "bagging: 1.0\n",
      "gradient boosting: 1.0\n",
      "AdaBoosting: 1.0\n",
      "xgboosting: 1.0\n",
      "blending: 1.0\n",
      "stacking: 1.0\n"
     ]
    }
   ],
   "source": [
    "print(f'bagging: {precision_score(y_true=test_labels, y_pred=bag_clf_pred)}')\n",
    "print(f'gradient boosting: {precision_score(y_true=test_labels, y_pred=gb_clf_pred)}')\n",
    "print(f'AdaBoosting: {precision_score(y_true=test_labels, y_pred=ada_clf_pred)}')\n",
    "print(f'xgboosting: {precision_score(y_true=test_labels, y_pred=xgb_pred)}')\n",
    "print(f'blending: {precision_score(y_true=test_labels, y_pred=bl_pred)}')\n",
    "print(f'stacking: {precision_score(y_true=test_labels, y_pred=stk_pred)}')"
   ]
  },
  {
   "cell_type": "markdown",
   "id": "2317bd71-c7f9-4547-beb5-0e7afe7e6fc9",
   "metadata": {},
   "source": [
    "## Recall"
   ]
  },
  {
   "cell_type": "code",
   "execution_count": 56,
   "id": "422d3880-bc98-46ef-a67c-1a58b753f99f",
   "metadata": {},
   "outputs": [
    {
     "name": "stdout",
     "output_type": "stream",
     "text": [
      "bagging: 1.0\n",
      "gradient boosting: 1.0\n",
      "AdaBoosting: 1.0\n",
      "xgboosting: 1.0\n",
      "blending: 1.0\n",
      "stacking: 1.0\n"
     ]
    }
   ],
   "source": [
    "print(f'bagging: {recall_score(y_true=test_labels, y_pred=bag_clf_pred)}')\n",
    "print(f'gradient boosting: {recall_score(y_true=test_labels, y_pred=gb_clf_pred)}')\n",
    "print(f'AdaBoosting: {recall_score(y_true=test_labels, y_pred=ada_clf_pred)}')\n",
    "print(f'xgboosting: {recall_score(y_true=test_labels, y_pred=xgb_pred)}')\n",
    "print(f'blending: {recall_score(y_true=test_labels, y_pred=bl_pred)}')\n",
    "print(f'stacking: {recall_score(y_true=test_labels, y_pred=stk_pred)}')"
   ]
  },
  {
   "cell_type": "markdown",
   "id": "e7522553-66a5-450a-80d7-1fdc8e3d9c43",
   "metadata": {},
   "source": [
    "# F1"
   ]
  },
  {
   "cell_type": "code",
   "execution_count": 57,
   "id": "e17e416e-f58d-4baf-b1da-29267635b2e4",
   "metadata": {},
   "outputs": [
    {
     "name": "stdout",
     "output_type": "stream",
     "text": [
      "bagging: 1.0\n",
      "gradient boosting: 1.0\n",
      "AdaBoosting: 1.0\n",
      "xgboosting: 1.0\n",
      "blending: 1.0\n",
      "stacking: 1.0\n"
     ]
    }
   ],
   "source": [
    "print(f'bagging: {f1_score(y_true=test_labels, y_pred=bag_clf_pred)}')\n",
    "print(f'gradient boosting: {f1_score(y_true=test_labels, y_pred=gb_clf_pred)}')\n",
    "print(f'AdaBoosting: {f1_score(y_true=test_labels, y_pred=ada_clf_pred)}')\n",
    "print(f'xgboosting: {f1_score(y_true=test_labels, y_pred=xgb_pred)}')\n",
    "print(f'blending: {f1_score(y_true=test_labels, y_pred=bl_pred)}')\n",
    "print(f'stacking: {f1_score(y_true=test_labels, y_pred=stk_pred)}')"
   ]
  },
  {
   "cell_type": "markdown",
   "id": "405fdf1a-1b9a-489b-90e2-972f90b76e49",
   "metadata": {},
   "source": [
    "## Kfold Cross Validation"
   ]
  },
  {
   "cell_type": "code",
   "execution_count": 62,
   "id": "41d81869-e601-4018-a625-fd28661d0b2a",
   "metadata": {},
   "outputs": [],
   "source": [
    "scores=cross_val_score(rnd_clf,transformed_train_para,train_label,\n",
    "                      scoring='neg_mean_squared_error',cv=5)\n",
    "scores=np.sqrt(-scores)"
   ]
  },
  {
   "cell_type": "code",
   "execution_count": 63,
   "id": "6cd5710e-14ed-4245-ac55-b8cba63f774c",
   "metadata": {},
   "outputs": [
    {
     "data": {
      "text/plain": [
       "array([0., 0., 0., 0., 0.])"
      ]
     },
     "execution_count": 63,
     "metadata": {},
     "output_type": "execute_result"
    }
   ],
   "source": [
    "scores"
   ]
  },
  {
   "cell_type": "code",
   "execution_count": null,
   "id": "4b0bca56-799d-426f-b692-3fb607634be1",
   "metadata": {},
   "outputs": [],
   "source": []
  },
  {
   "cell_type": "markdown",
   "id": "aa463b82-676e-439c-a921-54760da91012",
   "metadata": {},
   "source": [
    "## Hold-out validation"
   ]
  },
  {
   "cell_type": "code",
   "execution_count": 69,
   "id": "e8a36537-4e67-4dd7-9d39-24b4c67f4d91",
   "metadata": {},
   "outputs": [],
   "source": [
    "from sklearn.metrics import mean_squared_error"
   ]
  },
  {
   "cell_type": "code",
   "execution_count": 65,
   "id": "7a069949-b766-45d8-af68-9e5d12192d0f",
   "metadata": {},
   "outputs": [],
   "source": [
    "X_train, X_test, y_train, y_test=train_test_split(transformed_train_para,train_label,test_size=0.3)"
   ]
  },
  {
   "cell_type": "code",
   "execution_count": 67,
   "id": "1f7cf138-2a5b-4c9c-80c2-a5ce7a1d7028",
   "metadata": {},
   "outputs": [
    {
     "data": {
      "text/html": [
       "<style>#sk-container-id-6 {color: black;background-color: white;}#sk-container-id-6 pre{padding: 0;}#sk-container-id-6 div.sk-toggleable {background-color: white;}#sk-container-id-6 label.sk-toggleable__label {cursor: pointer;display: block;width: 100%;margin-bottom: 0;padding: 0.3em;box-sizing: border-box;text-align: center;}#sk-container-id-6 label.sk-toggleable__label-arrow:before {content: \"▸\";float: left;margin-right: 0.25em;color: #696969;}#sk-container-id-6 label.sk-toggleable__label-arrow:hover:before {color: black;}#sk-container-id-6 div.sk-estimator:hover label.sk-toggleable__label-arrow:before {color: black;}#sk-container-id-6 div.sk-toggleable__content {max-height: 0;max-width: 0;overflow: hidden;text-align: left;background-color: #f0f8ff;}#sk-container-id-6 div.sk-toggleable__content pre {margin: 0.2em;color: black;border-radius: 0.25em;background-color: #f0f8ff;}#sk-container-id-6 input.sk-toggleable__control:checked~div.sk-toggleable__content {max-height: 200px;max-width: 100%;overflow: auto;}#sk-container-id-6 input.sk-toggleable__control:checked~label.sk-toggleable__label-arrow:before {content: \"▾\";}#sk-container-id-6 div.sk-estimator input.sk-toggleable__control:checked~label.sk-toggleable__label {background-color: #d4ebff;}#sk-container-id-6 div.sk-label input.sk-toggleable__control:checked~label.sk-toggleable__label {background-color: #d4ebff;}#sk-container-id-6 input.sk-hidden--visually {border: 0;clip: rect(1px 1px 1px 1px);clip: rect(1px, 1px, 1px, 1px);height: 1px;margin: -1px;overflow: hidden;padding: 0;position: absolute;width: 1px;}#sk-container-id-6 div.sk-estimator {font-family: monospace;background-color: #f0f8ff;border: 1px dotted black;border-radius: 0.25em;box-sizing: border-box;margin-bottom: 0.5em;}#sk-container-id-6 div.sk-estimator:hover {background-color: #d4ebff;}#sk-container-id-6 div.sk-parallel-item::after {content: \"\";width: 100%;border-bottom: 1px solid gray;flex-grow: 1;}#sk-container-id-6 div.sk-label:hover label.sk-toggleable__label {background-color: #d4ebff;}#sk-container-id-6 div.sk-serial::before {content: \"\";position: absolute;border-left: 1px solid gray;box-sizing: border-box;top: 0;bottom: 0;left: 50%;z-index: 0;}#sk-container-id-6 div.sk-serial {display: flex;flex-direction: column;align-items: center;background-color: white;padding-right: 0.2em;padding-left: 0.2em;position: relative;}#sk-container-id-6 div.sk-item {position: relative;z-index: 1;}#sk-container-id-6 div.sk-parallel {display: flex;align-items: stretch;justify-content: center;background-color: white;position: relative;}#sk-container-id-6 div.sk-item::before, #sk-container-id-6 div.sk-parallel-item::before {content: \"\";position: absolute;border-left: 1px solid gray;box-sizing: border-box;top: 0;bottom: 0;left: 50%;z-index: -1;}#sk-container-id-6 div.sk-parallel-item {display: flex;flex-direction: column;z-index: 1;position: relative;background-color: white;}#sk-container-id-6 div.sk-parallel-item:first-child::after {align-self: flex-end;width: 50%;}#sk-container-id-6 div.sk-parallel-item:last-child::after {align-self: flex-start;width: 50%;}#sk-container-id-6 div.sk-parallel-item:only-child::after {width: 0;}#sk-container-id-6 div.sk-dashed-wrapped {border: 1px dashed gray;margin: 0 0.4em 0.5em 0.4em;box-sizing: border-box;padding-bottom: 0.4em;background-color: white;}#sk-container-id-6 div.sk-label label {font-family: monospace;font-weight: bold;display: inline-block;line-height: 1.2em;}#sk-container-id-6 div.sk-label-container {text-align: center;}#sk-container-id-6 div.sk-container {/* jupyter's `normalize.less` sets `[hidden] { display: none; }` but bootstrap.min.css set `[hidden] { display: none !important; }` so we also need the `!important` here to be able to override the default hidden behavior on the sphinx rendered scikit-learn.org. See: https://github.com/scikit-learn/scikit-learn/issues/21755 */display: inline-block !important;position: relative;}#sk-container-id-6 div.sk-text-repr-fallback {display: none;}</style><div id=\"sk-container-id-6\" class=\"sk-top-container\"><div class=\"sk-text-repr-fallback\"><pre>RandomForestClassifier(max_leaf_nodes=16, n_estimators=500, n_jobs=-1)</pre><b>In a Jupyter environment, please rerun this cell to show the HTML representation or trust the notebook. <br />On GitHub, the HTML representation is unable to render, please try loading this page with nbviewer.org.</b></div><div class=\"sk-container\" hidden><div class=\"sk-item\"><div class=\"sk-estimator sk-toggleable\"><input class=\"sk-toggleable__control sk-hidden--visually\" id=\"sk-estimator-id-10\" type=\"checkbox\" checked><label for=\"sk-estimator-id-10\" class=\"sk-toggleable__label sk-toggleable__label-arrow\">RandomForestClassifier</label><div class=\"sk-toggleable__content\"><pre>RandomForestClassifier(max_leaf_nodes=16, n_estimators=500, n_jobs=-1)</pre></div></div></div></div></div>"
      ],
      "text/plain": [
       "RandomForestClassifier(max_leaf_nodes=16, n_estimators=500, n_jobs=-1)"
      ]
     },
     "execution_count": 67,
     "metadata": {},
     "output_type": "execute_result"
    }
   ],
   "source": [
    "rnd_clf.fit(X_train,y_train)"
   ]
  },
  {
   "cell_type": "code",
   "execution_count": 68,
   "id": "ef9a6cf1-f025-47c9-951f-1743ca6faaad",
   "metadata": {},
   "outputs": [],
   "source": [
    "pred=rnd_clf.predict(X_test)"
   ]
  },
  {
   "cell_type": "code",
   "execution_count": 70,
   "id": "edeaabe9-1dfd-4ebc-82b5-d5d635c84ae4",
   "metadata": {},
   "outputs": [
    {
     "data": {
      "text/plain": [
       "0.0"
      ]
     },
     "execution_count": 70,
     "metadata": {},
     "output_type": "execute_result"
    }
   ],
   "source": [
    "mean_squared_error(y_true=y_test,y_pred=pred)"
   ]
  },
  {
   "cell_type": "code",
   "execution_count": null,
   "id": "d1b91859-77cd-4e61-8d8c-719a90507e93",
   "metadata": {},
   "outputs": [],
   "source": []
  }
 ],
 "metadata": {
  "kernelspec": {
   "display_name": "Python 3 (ipykernel)",
   "language": "python",
   "name": "python3"
  },
  "language_info": {
   "codemirror_mode": {
    "name": "ipython",
    "version": 3
   },
   "file_extension": ".py",
   "mimetype": "text/x-python",
   "name": "python",
   "nbconvert_exporter": "python",
   "pygments_lexer": "ipython3",
   "version": "3.10.9"
  }
 },
 "nbformat": 4,
 "nbformat_minor": 5
}
